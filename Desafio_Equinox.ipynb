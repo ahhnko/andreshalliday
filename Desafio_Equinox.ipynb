{
 "cells": [
  {
   "cell_type": "markdown",
   "metadata": {},
   "source": [
    "\n",
    "<h2 style=\"text-align: center;\">Desafío Equinox AI and Data Lab </h2>\n",
    "\n",
    "\n",
    "\n"
   ]
  },
  {
   "cell_type": "markdown",
   "metadata": {
    "tags": []
   },
   "source": [
    "Saludos aspirante:\n",
    "Estás a punto de comenzar un reto para demostrar que puedes ser parte de Equinox.\n",
    "\n",
    "Lee con atención las instrucciones para que puedas llevar a cabo tu prueba:\n",
    "\n",
    "El Desafío Equinox **evaluará 4 aspectos básicos** que se requieren a la hora de elegir a un perfil. \n",
    "Por lo tanto la prueba estará dividida en **4 partes**.\n",
    "\n",
    "- La primera parte evaluará tus conocimientos en **análisis y tratamiento de información**, esto junto a tu habilidad técnica en jupyter Notebooks, Python y demás librerias requeridas en Data analysis.\n",
    "\n",
    "- La segunda parte esta orientada a conocer tu desempeño en la construcción de modelos de **Machine Learning**, Ten en cuenta seguir el pipeline completo para demostrar que tu modelo tiene un correcto desempeño.\n",
    "\n",
    "- La tercera parte es un ejercicio orientado a evaluar tus **capacidades en SQL**. Consta de tres preguntas de negocio con la cuales queremos observar tu habilidad en el lenguaje.\n",
    "\n",
    "- La cuarta parte es un ejercicio de **comunicación**, en donde serás entrevistado por líderes del área y tendrás que contarnos sobre el modo en que abordaste el desafío."
   ]
  },
  {
   "cell_type": "markdown",
   "metadata": {},
   "source": [
    "<h4>Reglas para el desafío</h4>\n",
    "\n",
    "- El desafío podrá ser resuelto en aproximadamente 3 días, **comenzando el viernes 20 de Mayo a las 2:00 pm  y terminará el Lunes 23 de Mayo a las 01:00 pm** .\n",
    "\n",
    "- Es necesario contar con una cuenta de github para poder descargar el contenido del desafío y subir tus respuestas. Si no tienes una cuenta puedes dirigirte al sitio https://github.com/ y crear una.\n",
    "\n",
    "- Para la primera y segunda parte se utilizarán Jupyter Notebooks, Python y sus librerías orientadas a análisis de Datos y Machine Learning. Asegúrate de tener instaladas estas herramientas en tu equipo antes del lanzamiento del desafío para que puedas dedicar tus esfuerzos a resolver los problemas.\n",
    "\n",
    "- La tercera parte tomará la base de datos que esta alojada en https://www.w3schools.com/sql/trysql.asp?filename=trysql_select_all como referencia para las preguntas planteadas. Allí encontrarás una pequeña base de datos y un sandbox donde podrás probar tus queries.\n",
    "\n",
    "- Todo lo que construyas debe estár en un Jupyter Notebook, La primera y segunda parte deben correr dentro del notebook, mientras que para la tercera parte, solamente debes colocar los queries que resuelvan las preguntas de esta parte. **Asegurate de ser ordenado** para que nuestro proceso de validación pueda ser ágil.\n",
    "\n",
    "- Asegúrate de dar fork al repositorio https://github.com/EquinoxAI/desafio_equinox con tu nombre y apellido. **Ten en cuenta siempre  dar commit y subir archivos, para poder evaluar tu prueba.**\n",
    "![example1](img/fork1.png)\n",
    "![example2](img/fork2.png)\n",
    "\n",
    "- Debes estar atento las próximas semanas para realizar una entrevista, en la cuál deberás sustentar temas puntuales de tu prueba.\n",
    "\n",
    "\n",
    "Desde Equinox te deseamos muchos éxitos en este gran desafío y esperamos que des lo mejor de tí.\n",
    "\n",
    "Te esperamos.\n",
    "\n",
    "\n"
   ]
  },
  {
   "cell_type": "markdown",
   "metadata": {},
   "source": [
    "<h4> Primera Parte: Análisis y tratamiento de información </h4>\n",
    "\n",
    "- Tomando como referencia el archivo **kc_house_data.csv** responde las siguientes preguntas:\n",
    "\n",
    "    - ¿Cuántos registros y columnas esta compuesto el dataset?\n",
    "    - ¿Qué años componen el dataset y que cantidad de registros hay para cada año?\n",
    "    - ¿Cuál es la media de habitaciones de las propiedades que conforman el dataset?\n",
    "    - ¿Cuál es el precio promedio de alquilar una casa  de 3 pisos o más?\n",
    "    - ¿Cuántos pisos posée la casa cuyo número de habitaciones es igual a 33?\n",
    "    - ¿Cuántas propiedades son del año 2015 y tienen un precio mayor a 400000 dólares?\n",
    "    - ¿Cuál es la distribución del número de pisos en el dataset?. Demuéstralo a través de un gráfico de barras ordenado\n",
    "    - ¿Con que tipo de distribución relacionaría el precio de las propiedades cuyo valor es menor o igual a 2000000 dentro del dataset         Demuéstralo con un histograma."
   ]
  },
  {
   "cell_type": "markdown",
   "metadata": {},
   "source": [
    " <h4>Librerias </h4>"
   ]
  },
  {
   "cell_type": "code",
   "execution_count": 329,
   "metadata": {},
   "outputs": [],
   "source": [
    "import pandas as pd\n",
    "import numpy as np\n",
    "import matplotlib.pyplot as plt\n",
    "%matplotlib inline\n",
    "from sklearn.model_selection import train_test_split\n",
    "import lightgbm as lgb\n",
    "from sklearn.linear_model import LinearRegression\n",
    "from sklearn.metrics import mean_squared_error"
   ]
  },
  {
   "cell_type": "markdown",
   "metadata": {},
   "source": [
    " <h4>Lectura del archivo </h4>"
   ]
  },
  {
   "cell_type": "code",
   "execution_count": 306,
   "metadata": {},
   "outputs": [
    {
     "data": {
      "text/html": [
       "<div>\n",
       "<style scoped>\n",
       "    .dataframe tbody tr th:only-of-type {\n",
       "        vertical-align: middle;\n",
       "    }\n",
       "\n",
       "    .dataframe tbody tr th {\n",
       "        vertical-align: top;\n",
       "    }\n",
       "\n",
       "    .dataframe thead th {\n",
       "        text-align: right;\n",
       "    }\n",
       "</style>\n",
       "<table border=\"1\" class=\"dataframe\">\n",
       "  <thead>\n",
       "    <tr style=\"text-align: right;\">\n",
       "      <th></th>\n",
       "      <th>id</th>\n",
       "      <th>date</th>\n",
       "      <th>price</th>\n",
       "      <th>bedrooms</th>\n",
       "      <th>bathrooms</th>\n",
       "      <th>sqft_living</th>\n",
       "      <th>sqft_lot</th>\n",
       "      <th>floors</th>\n",
       "      <th>waterfront</th>\n",
       "      <th>view</th>\n",
       "      <th>...</th>\n",
       "      <th>grade</th>\n",
       "      <th>sqft_above</th>\n",
       "      <th>sqft_basement</th>\n",
       "      <th>yr_built</th>\n",
       "      <th>yr_renovated</th>\n",
       "      <th>zipcode</th>\n",
       "      <th>lat</th>\n",
       "      <th>long</th>\n",
       "      <th>sqft_living15</th>\n",
       "      <th>sqft_lot15</th>\n",
       "    </tr>\n",
       "  </thead>\n",
       "  <tbody>\n",
       "    <tr>\n",
       "      <th>0</th>\n",
       "      <td>7129300520</td>\n",
       "      <td>20141013T000000</td>\n",
       "      <td>221900.0</td>\n",
       "      <td>3</td>\n",
       "      <td>1.00</td>\n",
       "      <td>1180</td>\n",
       "      <td>5650</td>\n",
       "      <td>1.0</td>\n",
       "      <td>0</td>\n",
       "      <td>0</td>\n",
       "      <td>...</td>\n",
       "      <td>7</td>\n",
       "      <td>1180</td>\n",
       "      <td>0</td>\n",
       "      <td>1955</td>\n",
       "      <td>0</td>\n",
       "      <td>98178</td>\n",
       "      <td>47.5112</td>\n",
       "      <td>-122.257</td>\n",
       "      <td>1340</td>\n",
       "      <td>5650</td>\n",
       "    </tr>\n",
       "    <tr>\n",
       "      <th>1</th>\n",
       "      <td>6414100192</td>\n",
       "      <td>20141209T000000</td>\n",
       "      <td>538000.0</td>\n",
       "      <td>3</td>\n",
       "      <td>2.25</td>\n",
       "      <td>2570</td>\n",
       "      <td>7242</td>\n",
       "      <td>2.0</td>\n",
       "      <td>0</td>\n",
       "      <td>0</td>\n",
       "      <td>...</td>\n",
       "      <td>7</td>\n",
       "      <td>2170</td>\n",
       "      <td>400</td>\n",
       "      <td>1951</td>\n",
       "      <td>1991</td>\n",
       "      <td>98125</td>\n",
       "      <td>47.7210</td>\n",
       "      <td>-122.319</td>\n",
       "      <td>1690</td>\n",
       "      <td>7639</td>\n",
       "    </tr>\n",
       "    <tr>\n",
       "      <th>2</th>\n",
       "      <td>5631500400</td>\n",
       "      <td>20150225T000000</td>\n",
       "      <td>180000.0</td>\n",
       "      <td>2</td>\n",
       "      <td>1.00</td>\n",
       "      <td>770</td>\n",
       "      <td>10000</td>\n",
       "      <td>1.0</td>\n",
       "      <td>0</td>\n",
       "      <td>0</td>\n",
       "      <td>...</td>\n",
       "      <td>6</td>\n",
       "      <td>770</td>\n",
       "      <td>0</td>\n",
       "      <td>1933</td>\n",
       "      <td>0</td>\n",
       "      <td>98028</td>\n",
       "      <td>47.7379</td>\n",
       "      <td>-122.233</td>\n",
       "      <td>2720</td>\n",
       "      <td>8062</td>\n",
       "    </tr>\n",
       "    <tr>\n",
       "      <th>3</th>\n",
       "      <td>2487200875</td>\n",
       "      <td>20141209T000000</td>\n",
       "      <td>604000.0</td>\n",
       "      <td>4</td>\n",
       "      <td>3.00</td>\n",
       "      <td>1960</td>\n",
       "      <td>5000</td>\n",
       "      <td>1.0</td>\n",
       "      <td>0</td>\n",
       "      <td>0</td>\n",
       "      <td>...</td>\n",
       "      <td>7</td>\n",
       "      <td>1050</td>\n",
       "      <td>910</td>\n",
       "      <td>1965</td>\n",
       "      <td>0</td>\n",
       "      <td>98136</td>\n",
       "      <td>47.5208</td>\n",
       "      <td>-122.393</td>\n",
       "      <td>1360</td>\n",
       "      <td>5000</td>\n",
       "    </tr>\n",
       "    <tr>\n",
       "      <th>4</th>\n",
       "      <td>1954400510</td>\n",
       "      <td>20150218T000000</td>\n",
       "      <td>510000.0</td>\n",
       "      <td>3</td>\n",
       "      <td>2.00</td>\n",
       "      <td>1680</td>\n",
       "      <td>8080</td>\n",
       "      <td>1.0</td>\n",
       "      <td>0</td>\n",
       "      <td>0</td>\n",
       "      <td>...</td>\n",
       "      <td>8</td>\n",
       "      <td>1680</td>\n",
       "      <td>0</td>\n",
       "      <td>1987</td>\n",
       "      <td>0</td>\n",
       "      <td>98074</td>\n",
       "      <td>47.6168</td>\n",
       "      <td>-122.045</td>\n",
       "      <td>1800</td>\n",
       "      <td>7503</td>\n",
       "    </tr>\n",
       "  </tbody>\n",
       "</table>\n",
       "<p>5 rows × 21 columns</p>\n",
       "</div>"
      ],
      "text/plain": [
       "           id             date     price  bedrooms  bathrooms  sqft_living  \\\n",
       "0  7129300520  20141013T000000  221900.0         3       1.00         1180   \n",
       "1  6414100192  20141209T000000  538000.0         3       2.25         2570   \n",
       "2  5631500400  20150225T000000  180000.0         2       1.00          770   \n",
       "3  2487200875  20141209T000000  604000.0         4       3.00         1960   \n",
       "4  1954400510  20150218T000000  510000.0         3       2.00         1680   \n",
       "\n",
       "   sqft_lot  floors  waterfront  view  ...  grade  sqft_above  sqft_basement  \\\n",
       "0      5650     1.0           0     0  ...      7        1180              0   \n",
       "1      7242     2.0           0     0  ...      7        2170            400   \n",
       "2     10000     1.0           0     0  ...      6         770              0   \n",
       "3      5000     1.0           0     0  ...      7        1050            910   \n",
       "4      8080     1.0           0     0  ...      8        1680              0   \n",
       "\n",
       "   yr_built  yr_renovated  zipcode      lat     long  sqft_living15  \\\n",
       "0      1955             0    98178  47.5112 -122.257           1340   \n",
       "1      1951          1991    98125  47.7210 -122.319           1690   \n",
       "2      1933             0    98028  47.7379 -122.233           2720   \n",
       "3      1965             0    98136  47.5208 -122.393           1360   \n",
       "4      1987             0    98074  47.6168 -122.045           1800   \n",
       "\n",
       "   sqft_lot15  \n",
       "0        5650  \n",
       "1        7639  \n",
       "2        8062  \n",
       "3        5000  \n",
       "4        7503  \n",
       "\n",
       "[5 rows x 21 columns]"
      ]
     },
     "execution_count": 306,
     "metadata": {},
     "output_type": "execute_result"
    }
   ],
   "source": [
    "path= 'kc_house_data.csv'\n",
    "df=pd.read_csv(path)\n",
    "df.head()"
   ]
  },
  {
   "cell_type": "markdown",
   "metadata": {},
   "source": [
    "<h4>¿Cuántos registros y columnas esta compuesto el dataset? </h4>"
   ]
  },
  {
   "cell_type": "code",
   "execution_count": 307,
   "metadata": {},
   "outputs": [
    {
     "data": {
      "text/plain": [
       "(21613, 21)"
      ]
     },
     "execution_count": 307,
     "metadata": {},
     "output_type": "execute_result"
    }
   ],
   "source": [
    "df.shape"
   ]
  },
  {
   "cell_type": "markdown",
   "metadata": {},
   "source": [
    "Hay 21613 registros y 21 colúmnas"
   ]
  },
  {
   "cell_type": "markdown",
   "metadata": {},
   "source": [
    "<h4>¿Qué años componen el dataset y que cantidad de registros hay para cada año? </h4>"
   ]
  },
  {
   "cell_type": "markdown",
   "metadata": {},
   "source": [
    "Para la variable yr_built"
   ]
  },
  {
   "cell_type": "code",
   "execution_count": 308,
   "metadata": {},
   "outputs": [
    {
     "data": {
      "text/html": [
       "<div>\n",
       "<style scoped>\n",
       "    .dataframe tbody tr th:only-of-type {\n",
       "        vertical-align: middle;\n",
       "    }\n",
       "\n",
       "    .dataframe tbody tr th {\n",
       "        vertical-align: top;\n",
       "    }\n",
       "\n",
       "    .dataframe thead th {\n",
       "        text-align: right;\n",
       "    }\n",
       "</style>\n",
       "<table border=\"1\" class=\"dataframe\">\n",
       "  <thead>\n",
       "    <tr style=\"text-align: right;\">\n",
       "      <th></th>\n",
       "      <th>value_counts</th>\n",
       "    </tr>\n",
       "  </thead>\n",
       "  <tbody>\n",
       "    <tr>\n",
       "      <th>2014</th>\n",
       "      <td>559</td>\n",
       "    </tr>\n",
       "    <tr>\n",
       "      <th>2006</th>\n",
       "      <td>454</td>\n",
       "    </tr>\n",
       "    <tr>\n",
       "      <th>2005</th>\n",
       "      <td>450</td>\n",
       "    </tr>\n",
       "    <tr>\n",
       "      <th>2004</th>\n",
       "      <td>433</td>\n",
       "    </tr>\n",
       "    <tr>\n",
       "      <th>2003</th>\n",
       "      <td>422</td>\n",
       "    </tr>\n",
       "    <tr>\n",
       "      <th>...</th>\n",
       "      <td>...</td>\n",
       "    </tr>\n",
       "    <tr>\n",
       "      <th>1933</th>\n",
       "      <td>30</td>\n",
       "    </tr>\n",
       "    <tr>\n",
       "      <th>1901</th>\n",
       "      <td>29</td>\n",
       "    </tr>\n",
       "    <tr>\n",
       "      <th>1902</th>\n",
       "      <td>27</td>\n",
       "    </tr>\n",
       "    <tr>\n",
       "      <th>1935</th>\n",
       "      <td>24</td>\n",
       "    </tr>\n",
       "    <tr>\n",
       "      <th>1934</th>\n",
       "      <td>21</td>\n",
       "    </tr>\n",
       "  </tbody>\n",
       "</table>\n",
       "<p>116 rows × 1 columns</p>\n",
       "</div>"
      ],
      "text/plain": [
       "      value_counts\n",
       "2014           559\n",
       "2006           454\n",
       "2005           450\n",
       "2004           433\n",
       "2003           422\n",
       "...            ...\n",
       "1933            30\n",
       "1901            29\n",
       "1902            27\n",
       "1935            24\n",
       "1934            21\n",
       "\n",
       "[116 rows x 1 columns]"
      ]
     },
     "execution_count": 308,
     "metadata": {},
     "output_type": "execute_result"
    }
   ],
   "source": [
    "yr_built_counts = df['yr_built'].value_counts().to_frame()\n",
    "yr_built_counts.rename(columns={'yr_built': 'value_counts'}, inplace=True)\n",
    "yr_built_counts"
   ]
  },
  {
   "cell_type": "markdown",
   "metadata": {},
   "source": [
    "Para la variable yr_renovated"
   ]
  },
  {
   "cell_type": "code",
   "execution_count": 309,
   "metadata": {},
   "outputs": [
    {
     "data": {
      "text/html": [
       "<div>\n",
       "<style scoped>\n",
       "    .dataframe tbody tr th:only-of-type {\n",
       "        vertical-align: middle;\n",
       "    }\n",
       "\n",
       "    .dataframe tbody tr th {\n",
       "        vertical-align: top;\n",
       "    }\n",
       "\n",
       "    .dataframe thead th {\n",
       "        text-align: right;\n",
       "    }\n",
       "</style>\n",
       "<table border=\"1\" class=\"dataframe\">\n",
       "  <thead>\n",
       "    <tr style=\"text-align: right;\">\n",
       "      <th></th>\n",
       "      <th>value_counts</th>\n",
       "    </tr>\n",
       "  </thead>\n",
       "  <tbody>\n",
       "    <tr>\n",
       "      <th>0</th>\n",
       "      <td>20699</td>\n",
       "    </tr>\n",
       "    <tr>\n",
       "      <th>2014</th>\n",
       "      <td>91</td>\n",
       "    </tr>\n",
       "    <tr>\n",
       "      <th>2013</th>\n",
       "      <td>37</td>\n",
       "    </tr>\n",
       "    <tr>\n",
       "      <th>2003</th>\n",
       "      <td>36</td>\n",
       "    </tr>\n",
       "    <tr>\n",
       "      <th>2000</th>\n",
       "      <td>35</td>\n",
       "    </tr>\n",
       "    <tr>\n",
       "      <th>...</th>\n",
       "      <td>...</td>\n",
       "    </tr>\n",
       "    <tr>\n",
       "      <th>1934</th>\n",
       "      <td>1</td>\n",
       "    </tr>\n",
       "    <tr>\n",
       "      <th>1959</th>\n",
       "      <td>1</td>\n",
       "    </tr>\n",
       "    <tr>\n",
       "      <th>1951</th>\n",
       "      <td>1</td>\n",
       "    </tr>\n",
       "    <tr>\n",
       "      <th>1948</th>\n",
       "      <td>1</td>\n",
       "    </tr>\n",
       "    <tr>\n",
       "      <th>1944</th>\n",
       "      <td>1</td>\n",
       "    </tr>\n",
       "  </tbody>\n",
       "</table>\n",
       "<p>70 rows × 1 columns</p>\n",
       "</div>"
      ],
      "text/plain": [
       "      value_counts\n",
       "0            20699\n",
       "2014            91\n",
       "2013            37\n",
       "2003            36\n",
       "2000            35\n",
       "...            ...\n",
       "1934             1\n",
       "1959             1\n",
       "1951             1\n",
       "1948             1\n",
       "1944             1\n",
       "\n",
       "[70 rows x 1 columns]"
      ]
     },
     "execution_count": 309,
     "metadata": {},
     "output_type": "execute_result"
    }
   ],
   "source": [
    "yr_renovated_counts = df['yr_renovated'].value_counts().to_frame()\n",
    "yr_renovated_counts.rename(columns={'yr_renovated': 'value_counts'}, inplace=True)\n",
    "yr_renovated_counts"
   ]
  },
  {
   "cell_type": "markdown",
   "metadata": {},
   "source": [
    "<h4>¿Cuál es la media de habitaciones de las propiedades que conforman el dataset?</h4>"
   ]
  },
  {
   "cell_type": "code",
   "execution_count": 310,
   "metadata": {},
   "outputs": [
    {
     "data": {
      "text/plain": [
       "3.37084162309721"
      ]
     },
     "execution_count": 310,
     "metadata": {},
     "output_type": "execute_result"
    }
   ],
   "source": [
    "df['bedrooms'].mean()"
   ]
  },
  {
   "cell_type": "markdown",
   "metadata": {},
   "source": [
    "La media es 3.37084162309721 habitaciones por propiedad"
   ]
  },
  {
   "cell_type": "markdown",
   "metadata": {},
   "source": [
    "<h4>¿Cuál es el precio promedio de alquilar una casa  de 3 pisos o más? </h4>"
   ]
  },
  {
   "cell_type": "code",
   "execution_count": 311,
   "metadata": {},
   "outputs": [
    {
     "data": {
      "text/plain": [
       "587045.0273752013"
      ]
     },
     "execution_count": 311,
     "metadata": {},
     "output_type": "execute_result"
    }
   ],
   "source": [
    "three_or_more_floors_houses=df[df['floors']>=3]\n",
    "three_or_more_floors_houses['price'].mean()"
   ]
  },
  {
   "cell_type": "markdown",
   "metadata": {},
   "source": [
    "El precio promedio de una casa de 3 pisos o mas es de 587045.0273752013"
   ]
  },
  {
   "cell_type": "markdown",
   "metadata": {},
   "source": [
    "<h4>¿Cuántos pisos posée la casa cuyo número de habitaciones es igual a 33? </h4>"
   ]
  },
  {
   "cell_type": "code",
   "execution_count": 312,
   "metadata": {},
   "outputs": [
    {
     "data": {
      "text/plain": [
       "15870    1.0\n",
       "Name: floors, dtype: float64"
      ]
     },
     "execution_count": 312,
     "metadata": {},
     "output_type": "execute_result"
    }
   ],
   "source": [
    "thertytree_bedrooms_house=df[df['bedrooms']==33]\n",
    "thertytree_bedrooms_house['floors']"
   ]
  },
  {
   "cell_type": "markdown",
   "metadata": {},
   "source": [
    "La única casa con 33 habitaciones tiene 1.0 pisos"
   ]
  },
  {
   "cell_type": "markdown",
   "metadata": {},
   "source": [
    "<h4>¿Cuántas propiedades son del año 2015 y tienen un precio mayor a 400000 dólares? </h4>"
   ]
  },
  {
   "cell_type": "code",
   "execution_count": 313,
   "metadata": {},
   "outputs": [
    {
     "data": {
      "text/plain": [
       "(33, 21)"
      ]
     },
     "execution_count": 313,
     "metadata": {},
     "output_type": "execute_result"
    }
   ],
   "source": [
    "some_houses=df[(df['yr_built']==2015) & (df['price']>400000)]\n",
    "some_houses.shape"
   ]
  },
  {
   "cell_type": "markdown",
   "metadata": {},
   "source": [
    "Hay 33 propiedades del año 2015 con un precio mayor a 400000 dólares"
   ]
  },
  {
   "cell_type": "markdown",
   "metadata": {},
   "source": [
    "<h4>¿Cuál es la distribución del número de pisos en el dataset?. Demuéstralo a través de un gráfico de barras ordenado </h4>"
   ]
  },
  {
   "cell_type": "code",
   "execution_count": 314,
   "metadata": {},
   "outputs": [
    {
     "data": {
      "text/plain": [
       "floors\n",
       "1.0    10680\n",
       "2.0     8241\n",
       "1.5     1910\n",
       "3.0      613\n",
       "2.5      161\n",
       "3.5        8\n",
       "Name: id, dtype: int64"
      ]
     },
     "execution_count": 314,
     "metadata": {},
     "output_type": "execute_result"
    }
   ],
   "source": [
    "houses_by_floors=df.groupby(['floors']).count()\n",
    "sorted_houses_by_floors=houses_by_floors.sort_values(by=['id'], ascending=False)['id']\n",
    "sorted_houses_by_floors"
   ]
  },
  {
   "cell_type": "code",
   "execution_count": 315,
   "metadata": {},
   "outputs": [
    {
     "data": {
      "image/png": "[encoded data removed]",
      "text/plain": [
       "<Figure size 432x288 with 1 Axes>"
      ]
     },
     "metadata": {
      "needs_background": "light"
     },
     "output_type": "display_data"
    }
   ],
   "source": [
    "ax = sorted_houses_by_floors.plot.bar(rot=0, title='Number of floors distribution')"
   ]
  },
  {
   "cell_type": "markdown",
   "metadata": {},
   "source": [
    "<h4>¿Con que tipo de distribución relacionaría el precio de las propiedades cuyo valor es menor o igual a 2000000 dentro del dataset         Demuéstralo con un histograma. </h4>"
   ]
  },
  {
   "cell_type": "code",
   "execution_count": 316,
   "metadata": {},
   "outputs": [],
   "source": [
    "lower_than_two_M_houses=df[df['price']<=2000000]"
   ]
  },
  {
   "cell_type": "code",
   "execution_count": 317,
   "metadata": {},
   "outputs": [
    {
     "data": {
      "image/png": "[encoded data removed]",
      "text/plain": [
       "<Figure size 576x576 with 1 Axes>"
      ]
     },
     "metadata": {
      "needs_background": "light"
     },
     "output_type": "display_data"
    }
   ],
   "source": [
    "plt.figure(figsize=(8,8))\n",
    "n, bins, patches = plt.hist(lower_than_two_M_houses['price'], 20, density=True)\n",
    "\n",
    "plt.xlabel('Price')\n",
    "plt.ylabel('Probability')\n",
    "plt.title('Histogram of Price')\n",
    "plt.xlim(0, 2100000)\n",
    "plt.ylim(0, 0.0000021)\n",
    "plt.grid(True)\n",
    "plt.show()"
   ]
  },
  {
   "cell_type": "markdown",
   "metadata": {},
   "source": [
    "Según el histograma anterior los precios de las propiedades cuyo valor es menor o igual a 2000000 tienen una distribución normal con asimetría positiva"
   ]
  },
  {
   "cell_type": "markdown",
   "metadata": {},
   "source": [
    "<h4> Segunda Parte: Machine Learning </h4>\n",
    "\n",
    "Tomando el dataset de los ejercicios anteriores entrena un modelo que use inteligencia artificial que prediga el precio de propiedades futuras.\n",
    "\n",
    "Ten en cuenta: \n",
    "- Plantear una correcta división del dataset para entrenar y testear. \n",
    "- Usar el modelo correcto.\n",
    "- Métricas de desemempeño.\n",
    "- Construir una función para poder inferir resultados fuera del dataset."
   ]
  },
  {
   "cell_type": "markdown",
   "metadata": {},
   "source": [
    "<h4> EDA </h4>"
   ]
  },
  {
   "cell_type": "markdown",
   "metadata": {},
   "source": [
    "Se explora el dataset en general"
   ]
  },
  {
   "cell_type": "code",
   "execution_count": 318,
   "metadata": {},
   "outputs": [
    {
     "data": {
      "text/html": [
       "<div>\n",
       "<style scoped>\n",
       "    .dataframe tbody tr th:only-of-type {\n",
       "        vertical-align: middle;\n",
       "    }\n",
       "\n",
       "    .dataframe tbody tr th {\n",
       "        vertical-align: top;\n",
       "    }\n",
       "\n",
       "    .dataframe thead th {\n",
       "        text-align: right;\n",
       "    }\n",
       "</style>\n",
       "<table border=\"1\" class=\"dataframe\">\n",
       "  <thead>\n",
       "    <tr style=\"text-align: right;\">\n",
       "      <th></th>\n",
       "      <th>id</th>\n",
       "      <th>date</th>\n",
       "      <th>price</th>\n",
       "      <th>bedrooms</th>\n",
       "      <th>bathrooms</th>\n",
       "      <th>sqft_living</th>\n",
       "      <th>sqft_lot</th>\n",
       "      <th>floors</th>\n",
       "      <th>waterfront</th>\n",
       "      <th>view</th>\n",
       "      <th>...</th>\n",
       "      <th>grade</th>\n",
       "      <th>sqft_above</th>\n",
       "      <th>sqft_basement</th>\n",
       "      <th>yr_built</th>\n",
       "      <th>yr_renovated</th>\n",
       "      <th>zipcode</th>\n",
       "      <th>lat</th>\n",
       "      <th>long</th>\n",
       "      <th>sqft_living15</th>\n",
       "      <th>sqft_lot15</th>\n",
       "    </tr>\n",
       "  </thead>\n",
       "  <tbody>\n",
       "    <tr>\n",
       "      <th>0</th>\n",
       "      <td>7129300520</td>\n",
       "      <td>20141013T000000</td>\n",
       "      <td>221900.0</td>\n",
       "      <td>3</td>\n",
       "      <td>1.00</td>\n",
       "      <td>1180</td>\n",
       "      <td>5650</td>\n",
       "      <td>1.0</td>\n",
       "      <td>0</td>\n",
       "      <td>0</td>\n",
       "      <td>...</td>\n",
       "      <td>7</td>\n",
       "      <td>1180</td>\n",
       "      <td>0</td>\n",
       "      <td>1955</td>\n",
       "      <td>0</td>\n",
       "      <td>98178</td>\n",
       "      <td>47.5112</td>\n",
       "      <td>-122.257</td>\n",
       "      <td>1340</td>\n",
       "      <td>5650</td>\n",
       "    </tr>\n",
       "    <tr>\n",
       "      <th>1</th>\n",
       "      <td>6414100192</td>\n",
       "      <td>20141209T000000</td>\n",
       "      <td>538000.0</td>\n",
       "      <td>3</td>\n",
       "      <td>2.25</td>\n",
       "      <td>2570</td>\n",
       "      <td>7242</td>\n",
       "      <td>2.0</td>\n",
       "      <td>0</td>\n",
       "      <td>0</td>\n",
       "      <td>...</td>\n",
       "      <td>7</td>\n",
       "      <td>2170</td>\n",
       "      <td>400</td>\n",
       "      <td>1951</td>\n",
       "      <td>1991</td>\n",
       "      <td>98125</td>\n",
       "      <td>47.7210</td>\n",
       "      <td>-122.319</td>\n",
       "      <td>1690</td>\n",
       "      <td>7639</td>\n",
       "    </tr>\n",
       "    <tr>\n",
       "      <th>2</th>\n",
       "      <td>5631500400</td>\n",
       "      <td>20150225T000000</td>\n",
       "      <td>180000.0</td>\n",
       "      <td>2</td>\n",
       "      <td>1.00</td>\n",
       "      <td>770</td>\n",
       "      <td>10000</td>\n",
       "      <td>1.0</td>\n",
       "      <td>0</td>\n",
       "      <td>0</td>\n",
       "      <td>...</td>\n",
       "      <td>6</td>\n",
       "      <td>770</td>\n",
       "      <td>0</td>\n",
       "      <td>1933</td>\n",
       "      <td>0</td>\n",
       "      <td>98028</td>\n",
       "      <td>47.7379</td>\n",
       "      <td>-122.233</td>\n",
       "      <td>2720</td>\n",
       "      <td>8062</td>\n",
       "    </tr>\n",
       "    <tr>\n",
       "      <th>3</th>\n",
       "      <td>2487200875</td>\n",
       "      <td>20141209T000000</td>\n",
       "      <td>604000.0</td>\n",
       "      <td>4</td>\n",
       "      <td>3.00</td>\n",
       "      <td>1960</td>\n",
       "      <td>5000</td>\n",
       "      <td>1.0</td>\n",
       "      <td>0</td>\n",
       "      <td>0</td>\n",
       "      <td>...</td>\n",
       "      <td>7</td>\n",
       "      <td>1050</td>\n",
       "      <td>910</td>\n",
       "      <td>1965</td>\n",
       "      <td>0</td>\n",
       "      <td>98136</td>\n",
       "      <td>47.5208</td>\n",
       "      <td>-122.393</td>\n",
       "      <td>1360</td>\n",
       "      <td>5000</td>\n",
       "    </tr>\n",
       "    <tr>\n",
       "      <th>4</th>\n",
       "      <td>1954400510</td>\n",
       "      <td>20150218T000000</td>\n",
       "      <td>510000.0</td>\n",
       "      <td>3</td>\n",
       "      <td>2.00</td>\n",
       "      <td>1680</td>\n",
       "      <td>8080</td>\n",
       "      <td>1.0</td>\n",
       "      <td>0</td>\n",
       "      <td>0</td>\n",
       "      <td>...</td>\n",
       "      <td>8</td>\n",
       "      <td>1680</td>\n",
       "      <td>0</td>\n",
       "      <td>1987</td>\n",
       "      <td>0</td>\n",
       "      <td>98074</td>\n",
       "      <td>47.6168</td>\n",
       "      <td>-122.045</td>\n",
       "      <td>1800</td>\n",
       "      <td>7503</td>\n",
       "    </tr>\n",
       "    <tr>\n",
       "      <th>5</th>\n",
       "      <td>7237550310</td>\n",
       "      <td>20140512T000000</td>\n",
       "      <td>1225000.0</td>\n",
       "      <td>4</td>\n",
       "      <td>4.50</td>\n",
       "      <td>5420</td>\n",
       "      <td>101930</td>\n",
       "      <td>1.0</td>\n",
       "      <td>0</td>\n",
       "      <td>0</td>\n",
       "      <td>...</td>\n",
       "      <td>11</td>\n",
       "      <td>3890</td>\n",
       "      <td>1530</td>\n",
       "      <td>2001</td>\n",
       "      <td>0</td>\n",
       "      <td>98053</td>\n",
       "      <td>47.6561</td>\n",
       "      <td>-122.005</td>\n",
       "      <td>4760</td>\n",
       "      <td>101930</td>\n",
       "    </tr>\n",
       "    <tr>\n",
       "      <th>6</th>\n",
       "      <td>1321400060</td>\n",
       "      <td>20140627T000000</td>\n",
       "      <td>257500.0</td>\n",
       "      <td>3</td>\n",
       "      <td>2.25</td>\n",
       "      <td>1715</td>\n",
       "      <td>6819</td>\n",
       "      <td>2.0</td>\n",
       "      <td>0</td>\n",
       "      <td>0</td>\n",
       "      <td>...</td>\n",
       "      <td>7</td>\n",
       "      <td>1715</td>\n",
       "      <td>0</td>\n",
       "      <td>1995</td>\n",
       "      <td>0</td>\n",
       "      <td>98003</td>\n",
       "      <td>47.3097</td>\n",
       "      <td>-122.327</td>\n",
       "      <td>2238</td>\n",
       "      <td>6819</td>\n",
       "    </tr>\n",
       "    <tr>\n",
       "      <th>7</th>\n",
       "      <td>2008000270</td>\n",
       "      <td>20150115T000000</td>\n",
       "      <td>291850.0</td>\n",
       "      <td>3</td>\n",
       "      <td>1.50</td>\n",
       "      <td>1060</td>\n",
       "      <td>9711</td>\n",
       "      <td>1.0</td>\n",
       "      <td>0</td>\n",
       "      <td>0</td>\n",
       "      <td>...</td>\n",
       "      <td>7</td>\n",
       "      <td>1060</td>\n",
       "      <td>0</td>\n",
       "      <td>1963</td>\n",
       "      <td>0</td>\n",
       "      <td>98198</td>\n",
       "      <td>47.4095</td>\n",
       "      <td>-122.315</td>\n",
       "      <td>1650</td>\n",
       "      <td>9711</td>\n",
       "    </tr>\n",
       "    <tr>\n",
       "      <th>8</th>\n",
       "      <td>2414600126</td>\n",
       "      <td>20150415T000000</td>\n",
       "      <td>229500.0</td>\n",
       "      <td>3</td>\n",
       "      <td>1.00</td>\n",
       "      <td>1780</td>\n",
       "      <td>7470</td>\n",
       "      <td>1.0</td>\n",
       "      <td>0</td>\n",
       "      <td>0</td>\n",
       "      <td>...</td>\n",
       "      <td>7</td>\n",
       "      <td>1050</td>\n",
       "      <td>730</td>\n",
       "      <td>1960</td>\n",
       "      <td>0</td>\n",
       "      <td>98146</td>\n",
       "      <td>47.5123</td>\n",
       "      <td>-122.337</td>\n",
       "      <td>1780</td>\n",
       "      <td>8113</td>\n",
       "    </tr>\n",
       "    <tr>\n",
       "      <th>9</th>\n",
       "      <td>3793500160</td>\n",
       "      <td>20150312T000000</td>\n",
       "      <td>323000.0</td>\n",
       "      <td>3</td>\n",
       "      <td>2.50</td>\n",
       "      <td>1890</td>\n",
       "      <td>6560</td>\n",
       "      <td>2.0</td>\n",
       "      <td>0</td>\n",
       "      <td>0</td>\n",
       "      <td>...</td>\n",
       "      <td>7</td>\n",
       "      <td>1890</td>\n",
       "      <td>0</td>\n",
       "      <td>2003</td>\n",
       "      <td>0</td>\n",
       "      <td>98038</td>\n",
       "      <td>47.3684</td>\n",
       "      <td>-122.031</td>\n",
       "      <td>2390</td>\n",
       "      <td>7570</td>\n",
       "    </tr>\n",
       "  </tbody>\n",
       "</table>\n",
       "<p>10 rows × 21 columns</p>\n",
       "</div>"
      ],
      "text/plain": [
       "           id             date      price  bedrooms  bathrooms  sqft_living  \\\n",
       "0  7129300520  20141013T000000   221900.0         3       1.00         1180   \n",
       "1  6414100192  20141209T000000   538000.0         3       2.25         2570   \n",
       "2  5631500400  20150225T000000   180000.0         2       1.00          770   \n",
       "3  2487200875  20141209T000000   604000.0         4       3.00         1960   \n",
       "4  1954400510  20150218T000000   510000.0         3       2.00         1680   \n",
       "5  7237550310  20140512T000000  1225000.0         4       4.50         5420   \n",
       "6  1321400060  20140627T000000   257500.0         3       2.25         1715   \n",
       "7  2008000270  20150115T000000   291850.0         3       1.50         1060   \n",
       "8  2414600126  20150415T000000   229500.0         3       1.00         1780   \n",
       "9  3793500160  20150312T000000   323000.0         3       2.50         1890   \n",
       "\n",
       "   sqft_lot  floors  waterfront  view  ...  grade  sqft_above  sqft_basement  \\\n",
       "0      5650     1.0           0     0  ...      7        1180              0   \n",
       "1      7242     2.0           0     0  ...      7        2170            400   \n",
       "2     10000     1.0           0     0  ...      6         770              0   \n",
       "3      5000     1.0           0     0  ...      7        1050            910   \n",
       "4      8080     1.0           0     0  ...      8        1680              0   \n",
       "5    101930     1.0           0     0  ...     11        3890           1530   \n",
       "6      6819     2.0           0     0  ...      7        1715              0   \n",
       "7      9711     1.0           0     0  ...      7        1060              0   \n",
       "8      7470     1.0           0     0  ...      7        1050            730   \n",
       "9      6560     2.0           0     0  ...      7        1890              0   \n",
       "\n",
       "   yr_built  yr_renovated  zipcode      lat     long  sqft_living15  \\\n",
       "0      1955             0    98178  47.5112 -122.257           1340   \n",
       "1      1951          1991    98125  47.7210 -122.319           1690   \n",
       "2      1933             0    98028  47.7379 -122.233           2720   \n",
       "3      1965             0    98136  47.5208 -122.393           1360   \n",
       "4      1987             0    98074  47.6168 -122.045           1800   \n",
       "5      2001             0    98053  47.6561 -122.005           4760   \n",
       "6      1995             0    98003  47.3097 -122.327           2238   \n",
       "7      1963             0    98198  47.4095 -122.315           1650   \n",
       "8      1960             0    98146  47.5123 -122.337           1780   \n",
       "9      2003             0    98038  47.3684 -122.031           2390   \n",
       "\n",
       "   sqft_lot15  \n",
       "0        5650  \n",
       "1        7639  \n",
       "2        8062  \n",
       "3        5000  \n",
       "4        7503  \n",
       "5      101930  \n",
       "6        6819  \n",
       "7        9711  \n",
       "8        8113  \n",
       "9        7570  \n",
       "\n",
       "[10 rows x 21 columns]"
      ]
     },
     "execution_count": 318,
     "metadata": {},
     "output_type": "execute_result"
    }
   ],
   "source": [
    "df.head(10)"
   ]
  },
  {
   "cell_type": "code",
   "execution_count": 319,
   "metadata": {
    "scrolled": true
   },
   "outputs": [
    {
     "data": {
      "text/html": [
       "<div>\n",
       "<style scoped>\n",
       "    .dataframe tbody tr th:only-of-type {\n",
       "        vertical-align: middle;\n",
       "    }\n",
       "\n",
       "    .dataframe tbody tr th {\n",
       "        vertical-align: top;\n",
       "    }\n",
       "\n",
       "    .dataframe thead th {\n",
       "        text-align: right;\n",
       "    }\n",
       "</style>\n",
       "<table border=\"1\" class=\"dataframe\">\n",
       "  <thead>\n",
       "    <tr style=\"text-align: right;\">\n",
       "      <th></th>\n",
       "      <th>id</th>\n",
       "      <th>date</th>\n",
       "      <th>price</th>\n",
       "      <th>bedrooms</th>\n",
       "      <th>bathrooms</th>\n",
       "      <th>sqft_living</th>\n",
       "      <th>sqft_lot</th>\n",
       "      <th>floors</th>\n",
       "      <th>waterfront</th>\n",
       "      <th>view</th>\n",
       "      <th>...</th>\n",
       "      <th>grade</th>\n",
       "      <th>sqft_above</th>\n",
       "      <th>sqft_basement</th>\n",
       "      <th>yr_built</th>\n",
       "      <th>yr_renovated</th>\n",
       "      <th>zipcode</th>\n",
       "      <th>lat</th>\n",
       "      <th>long</th>\n",
       "      <th>sqft_living15</th>\n",
       "      <th>sqft_lot15</th>\n",
       "    </tr>\n",
       "  </thead>\n",
       "  <tbody>\n",
       "    <tr>\n",
       "      <th>count</th>\n",
       "      <td>2.161300e+04</td>\n",
       "      <td>21613</td>\n",
       "      <td>2.161300e+04</td>\n",
       "      <td>21613.000000</td>\n",
       "      <td>21613.000000</td>\n",
       "      <td>21613.000000</td>\n",
       "      <td>2.161300e+04</td>\n",
       "      <td>21613.000000</td>\n",
       "      <td>21613.000000</td>\n",
       "      <td>21613.000000</td>\n",
       "      <td>...</td>\n",
       "      <td>21613.000000</td>\n",
       "      <td>21613.000000</td>\n",
       "      <td>21613.000000</td>\n",
       "      <td>21613.000000</td>\n",
       "      <td>21613.000000</td>\n",
       "      <td>21613.000000</td>\n",
       "      <td>21613.000000</td>\n",
       "      <td>21613.000000</td>\n",
       "      <td>21613.000000</td>\n",
       "      <td>21613.000000</td>\n",
       "    </tr>\n",
       "    <tr>\n",
       "      <th>unique</th>\n",
       "      <td>NaN</td>\n",
       "      <td>372</td>\n",
       "      <td>NaN</td>\n",
       "      <td>NaN</td>\n",
       "      <td>NaN</td>\n",
       "      <td>NaN</td>\n",
       "      <td>NaN</td>\n",
       "      <td>NaN</td>\n",
       "      <td>NaN</td>\n",
       "      <td>NaN</td>\n",
       "      <td>...</td>\n",
       "      <td>NaN</td>\n",
       "      <td>NaN</td>\n",
       "      <td>NaN</td>\n",
       "      <td>NaN</td>\n",
       "      <td>NaN</td>\n",
       "      <td>NaN</td>\n",
       "      <td>NaN</td>\n",
       "      <td>NaN</td>\n",
       "      <td>NaN</td>\n",
       "      <td>NaN</td>\n",
       "    </tr>\n",
       "    <tr>\n",
       "      <th>top</th>\n",
       "      <td>NaN</td>\n",
       "      <td>20140623T000000</td>\n",
       "      <td>NaN</td>\n",
       "      <td>NaN</td>\n",
       "      <td>NaN</td>\n",
       "      <td>NaN</td>\n",
       "      <td>NaN</td>\n",
       "      <td>NaN</td>\n",
       "      <td>NaN</td>\n",
       "      <td>NaN</td>\n",
       "      <td>...</td>\n",
       "      <td>NaN</td>\n",
       "      <td>NaN</td>\n",
       "      <td>NaN</td>\n",
       "      <td>NaN</td>\n",
       "      <td>NaN</td>\n",
       "      <td>NaN</td>\n",
       "      <td>NaN</td>\n",
       "      <td>NaN</td>\n",
       "      <td>NaN</td>\n",
       "      <td>NaN</td>\n",
       "    </tr>\n",
       "    <tr>\n",
       "      <th>freq</th>\n",
       "      <td>NaN</td>\n",
       "      <td>142</td>\n",
       "      <td>NaN</td>\n",
       "      <td>NaN</td>\n",
       "      <td>NaN</td>\n",
       "      <td>NaN</td>\n",
       "      <td>NaN</td>\n",
       "      <td>NaN</td>\n",
       "      <td>NaN</td>\n",
       "      <td>NaN</td>\n",
       "      <td>...</td>\n",
       "      <td>NaN</td>\n",
       "      <td>NaN</td>\n",
       "      <td>NaN</td>\n",
       "      <td>NaN</td>\n",
       "      <td>NaN</td>\n",
       "      <td>NaN</td>\n",
       "      <td>NaN</td>\n",
       "      <td>NaN</td>\n",
       "      <td>NaN</td>\n",
       "      <td>NaN</td>\n",
       "    </tr>\n",
       "    <tr>\n",
       "      <th>mean</th>\n",
       "      <td>4.580302e+09</td>\n",
       "      <td>NaN</td>\n",
       "      <td>5.400881e+05</td>\n",
       "      <td>3.370842</td>\n",
       "      <td>2.114757</td>\n",
       "      <td>2079.899736</td>\n",
       "      <td>1.510697e+04</td>\n",
       "      <td>1.494309</td>\n",
       "      <td>0.007542</td>\n",
       "      <td>0.234303</td>\n",
       "      <td>...</td>\n",
       "      <td>7.656873</td>\n",
       "      <td>1788.390691</td>\n",
       "      <td>291.509045</td>\n",
       "      <td>1971.005136</td>\n",
       "      <td>84.402258</td>\n",
       "      <td>98077.939805</td>\n",
       "      <td>47.560053</td>\n",
       "      <td>-122.213896</td>\n",
       "      <td>1986.552492</td>\n",
       "      <td>12768.455652</td>\n",
       "    </tr>\n",
       "    <tr>\n",
       "      <th>std</th>\n",
       "      <td>2.876566e+09</td>\n",
       "      <td>NaN</td>\n",
       "      <td>3.671272e+05</td>\n",
       "      <td>0.930062</td>\n",
       "      <td>0.770163</td>\n",
       "      <td>918.440897</td>\n",
       "      <td>4.142051e+04</td>\n",
       "      <td>0.539989</td>\n",
       "      <td>0.086517</td>\n",
       "      <td>0.766318</td>\n",
       "      <td>...</td>\n",
       "      <td>1.175459</td>\n",
       "      <td>828.090978</td>\n",
       "      <td>442.575043</td>\n",
       "      <td>29.373411</td>\n",
       "      <td>401.679240</td>\n",
       "      <td>53.505026</td>\n",
       "      <td>0.138564</td>\n",
       "      <td>0.140828</td>\n",
       "      <td>685.391304</td>\n",
       "      <td>27304.179631</td>\n",
       "    </tr>\n",
       "    <tr>\n",
       "      <th>min</th>\n",
       "      <td>1.000102e+06</td>\n",
       "      <td>NaN</td>\n",
       "      <td>7.500000e+04</td>\n",
       "      <td>0.000000</td>\n",
       "      <td>0.000000</td>\n",
       "      <td>290.000000</td>\n",
       "      <td>5.200000e+02</td>\n",
       "      <td>1.000000</td>\n",
       "      <td>0.000000</td>\n",
       "      <td>0.000000</td>\n",
       "      <td>...</td>\n",
       "      <td>1.000000</td>\n",
       "      <td>290.000000</td>\n",
       "      <td>0.000000</td>\n",
       "      <td>1900.000000</td>\n",
       "      <td>0.000000</td>\n",
       "      <td>98001.000000</td>\n",
       "      <td>47.155900</td>\n",
       "      <td>-122.519000</td>\n",
       "      <td>399.000000</td>\n",
       "      <td>651.000000</td>\n",
       "    </tr>\n",
       "    <tr>\n",
       "      <th>25%</th>\n",
       "      <td>2.123049e+09</td>\n",
       "      <td>NaN</td>\n",
       "      <td>3.219500e+05</td>\n",
       "      <td>3.000000</td>\n",
       "      <td>1.750000</td>\n",
       "      <td>1427.000000</td>\n",
       "      <td>5.040000e+03</td>\n",
       "      <td>1.000000</td>\n",
       "      <td>0.000000</td>\n",
       "      <td>0.000000</td>\n",
       "      <td>...</td>\n",
       "      <td>7.000000</td>\n",
       "      <td>1190.000000</td>\n",
       "      <td>0.000000</td>\n",
       "      <td>1951.000000</td>\n",
       "      <td>0.000000</td>\n",
       "      <td>98033.000000</td>\n",
       "      <td>47.471000</td>\n",
       "      <td>-122.328000</td>\n",
       "      <td>1490.000000</td>\n",
       "      <td>5100.000000</td>\n",
       "    </tr>\n",
       "    <tr>\n",
       "      <th>50%</th>\n",
       "      <td>3.904930e+09</td>\n",
       "      <td>NaN</td>\n",
       "      <td>4.500000e+05</td>\n",
       "      <td>3.000000</td>\n",
       "      <td>2.250000</td>\n",
       "      <td>1910.000000</td>\n",
       "      <td>7.618000e+03</td>\n",
       "      <td>1.500000</td>\n",
       "      <td>0.000000</td>\n",
       "      <td>0.000000</td>\n",
       "      <td>...</td>\n",
       "      <td>7.000000</td>\n",
       "      <td>1560.000000</td>\n",
       "      <td>0.000000</td>\n",
       "      <td>1975.000000</td>\n",
       "      <td>0.000000</td>\n",
       "      <td>98065.000000</td>\n",
       "      <td>47.571800</td>\n",
       "      <td>-122.230000</td>\n",
       "      <td>1840.000000</td>\n",
       "      <td>7620.000000</td>\n",
       "    </tr>\n",
       "    <tr>\n",
       "      <th>75%</th>\n",
       "      <td>7.308900e+09</td>\n",
       "      <td>NaN</td>\n",
       "      <td>6.450000e+05</td>\n",
       "      <td>4.000000</td>\n",
       "      <td>2.500000</td>\n",
       "      <td>2550.000000</td>\n",
       "      <td>1.068800e+04</td>\n",
       "      <td>2.000000</td>\n",
       "      <td>0.000000</td>\n",
       "      <td>0.000000</td>\n",
       "      <td>...</td>\n",
       "      <td>8.000000</td>\n",
       "      <td>2210.000000</td>\n",
       "      <td>560.000000</td>\n",
       "      <td>1997.000000</td>\n",
       "      <td>0.000000</td>\n",
       "      <td>98118.000000</td>\n",
       "      <td>47.678000</td>\n",
       "      <td>-122.125000</td>\n",
       "      <td>2360.000000</td>\n",
       "      <td>10083.000000</td>\n",
       "    </tr>\n",
       "    <tr>\n",
       "      <th>max</th>\n",
       "      <td>9.900000e+09</td>\n",
       "      <td>NaN</td>\n",
       "      <td>7.700000e+06</td>\n",
       "      <td>33.000000</td>\n",
       "      <td>8.000000</td>\n",
       "      <td>13540.000000</td>\n",
       "      <td>1.651359e+06</td>\n",
       "      <td>3.500000</td>\n",
       "      <td>1.000000</td>\n",
       "      <td>4.000000</td>\n",
       "      <td>...</td>\n",
       "      <td>13.000000</td>\n",
       "      <td>9410.000000</td>\n",
       "      <td>4820.000000</td>\n",
       "      <td>2015.000000</td>\n",
       "      <td>2015.000000</td>\n",
       "      <td>98199.000000</td>\n",
       "      <td>47.777600</td>\n",
       "      <td>-121.315000</td>\n",
       "      <td>6210.000000</td>\n",
       "      <td>871200.000000</td>\n",
       "    </tr>\n",
       "  </tbody>\n",
       "</table>\n",
       "<p>11 rows × 21 columns</p>\n",
       "</div>"
      ],
      "text/plain": [
       "                  id             date         price      bedrooms  \\\n",
       "count   2.161300e+04            21613  2.161300e+04  21613.000000   \n",
       "unique           NaN              372           NaN           NaN   \n",
       "top              NaN  20140623T000000           NaN           NaN   \n",
       "freq             NaN              142           NaN           NaN   \n",
       "mean    4.580302e+09              NaN  5.400881e+05      3.370842   \n",
       "std     2.876566e+09              NaN  3.671272e+05      0.930062   \n",
       "min     1.000102e+06              NaN  7.500000e+04      0.000000   \n",
       "25%     2.123049e+09              NaN  3.219500e+05      3.000000   \n",
       "50%     3.904930e+09              NaN  4.500000e+05      3.000000   \n",
       "75%     7.308900e+09              NaN  6.450000e+05      4.000000   \n",
       "max     9.900000e+09              NaN  7.700000e+06     33.000000   \n",
       "\n",
       "           bathrooms   sqft_living      sqft_lot        floors    waterfront  \\\n",
       "count   21613.000000  21613.000000  2.161300e+04  21613.000000  21613.000000   \n",
       "unique           NaN           NaN           NaN           NaN           NaN   \n",
       "top              NaN           NaN           NaN           NaN           NaN   \n",
       "freq             NaN           NaN           NaN           NaN           NaN   \n",
       "mean        2.114757   2079.899736  1.510697e+04      1.494309      0.007542   \n",
       "std         0.770163    918.440897  4.142051e+04      0.539989      0.086517   \n",
       "min         0.000000    290.000000  5.200000e+02      1.000000      0.000000   \n",
       "25%         1.750000   1427.000000  5.040000e+03      1.000000      0.000000   \n",
       "50%         2.250000   1910.000000  7.618000e+03      1.500000      0.000000   \n",
       "75%         2.500000   2550.000000  1.068800e+04      2.000000      0.000000   \n",
       "max         8.000000  13540.000000  1.651359e+06      3.500000      1.000000   \n",
       "\n",
       "                view  ...         grade    sqft_above  sqft_basement  \\\n",
       "count   21613.000000  ...  21613.000000  21613.000000   21613.000000   \n",
       "unique           NaN  ...           NaN           NaN            NaN   \n",
       "top              NaN  ...           NaN           NaN            NaN   \n",
       "freq             NaN  ...           NaN           NaN            NaN   \n",
       "mean        0.234303  ...      7.656873   1788.390691     291.509045   \n",
       "std         0.766318  ...      1.175459    828.090978     442.575043   \n",
       "min         0.000000  ...      1.000000    290.000000       0.000000   \n",
       "25%         0.000000  ...      7.000000   1190.000000       0.000000   \n",
       "50%         0.000000  ...      7.000000   1560.000000       0.000000   \n",
       "75%         0.000000  ...      8.000000   2210.000000     560.000000   \n",
       "max         4.000000  ...     13.000000   9410.000000    4820.000000   \n",
       "\n",
       "            yr_built  yr_renovated       zipcode           lat          long  \\\n",
       "count   21613.000000  21613.000000  21613.000000  21613.000000  21613.000000   \n",
       "unique           NaN           NaN           NaN           NaN           NaN   \n",
       "top              NaN           NaN           NaN           NaN           NaN   \n",
       "freq             NaN           NaN           NaN           NaN           NaN   \n",
       "mean     1971.005136     84.402258  98077.939805     47.560053   -122.213896   \n",
       "std        29.373411    401.679240     53.505026      0.138564      0.140828   \n",
       "min      1900.000000      0.000000  98001.000000     47.155900   -122.519000   \n",
       "25%      1951.000000      0.000000  98033.000000     47.471000   -122.328000   \n",
       "50%      1975.000000      0.000000  98065.000000     47.571800   -122.230000   \n",
       "75%      1997.000000      0.000000  98118.000000     47.678000   -122.125000   \n",
       "max      2015.000000   2015.000000  98199.000000     47.777600   -121.315000   \n",
       "\n",
       "        sqft_living15     sqft_lot15  \n",
       "count    21613.000000   21613.000000  \n",
       "unique            NaN            NaN  \n",
       "top               NaN            NaN  \n",
       "freq              NaN            NaN  \n",
       "mean      1986.552492   12768.455652  \n",
       "std        685.391304   27304.179631  \n",
       "min        399.000000     651.000000  \n",
       "25%       1490.000000    5100.000000  \n",
       "50%       1840.000000    7620.000000  \n",
       "75%       2360.000000   10083.000000  \n",
       "max       6210.000000  871200.000000  \n",
       "\n",
       "[11 rows x 21 columns]"
      ]
     },
     "execution_count": 319,
     "metadata": {},
     "output_type": "execute_result"
    }
   ],
   "source": [
    "df.describe(include='all')"
   ]
  },
  {
   "cell_type": "code",
   "execution_count": 320,
   "metadata": {},
   "outputs": [
    {
     "data": {
      "text/plain": [
       "id                 int64\n",
       "date              object\n",
       "price            float64\n",
       "bedrooms           int64\n",
       "bathrooms        float64\n",
       "sqft_living        int64\n",
       "sqft_lot           int64\n",
       "floors           float64\n",
       "waterfront         int64\n",
       "view               int64\n",
       "condition          int64\n",
       "grade              int64\n",
       "sqft_above         int64\n",
       "sqft_basement      int64\n",
       "yr_built           int64\n",
       "yr_renovated       int64\n",
       "zipcode            int64\n",
       "lat              float64\n",
       "long             float64\n",
       "sqft_living15      int64\n",
       "sqft_lot15         int64\n",
       "dtype: object"
      ]
     },
     "execution_count": 320,
     "metadata": {},
     "output_type": "execute_result"
    }
   ],
   "source": [
    "df.dtypes"
   ]
  },
  {
   "cell_type": "markdown",
   "metadata": {},
   "source": [
    "Se veriica que los datos estan distribuidos de forma aleatoria"
   ]
  },
  {
   "cell_type": "code",
   "execution_count": 321,
   "metadata": {},
   "outputs": [
    {
     "data": {
      "image/png": "[encoded data removed]",
      "text/plain": [
       "<Figure size 1080x576 with 1 Axes>"
      ]
     },
     "metadata": {
      "needs_background": "light"
     },
     "output_type": "display_data"
    }
   ],
   "source": [
    "plt.figure(figsize=(15,8))\n",
    "plt.plot(df.index,df['price'])\n",
    "plt.show()"
   ]
  },
  {
   "cell_type": "markdown",
   "metadata": {},
   "source": [
    "Se revisa si hay valores nulos"
   ]
  },
  {
   "cell_type": "code",
   "execution_count": 322,
   "metadata": {},
   "outputs": [
    {
     "data": {
      "text/plain": [
       "id               0\n",
       "date             0\n",
       "price            0\n",
       "bedrooms         0\n",
       "bathrooms        0\n",
       "sqft_living      0\n",
       "sqft_lot         0\n",
       "floors           0\n",
       "waterfront       0\n",
       "view             0\n",
       "condition        0\n",
       "grade            0\n",
       "sqft_above       0\n",
       "sqft_basement    0\n",
       "yr_built         0\n",
       "yr_renovated     0\n",
       "zipcode          0\n",
       "lat              0\n",
       "long             0\n",
       "sqft_living15    0\n",
       "sqft_lot15       0\n",
       "dtype: int64"
      ]
     },
     "execution_count": 322,
     "metadata": {},
     "output_type": "execute_result"
    }
   ],
   "source": [
    "df.isnull().sum(axis=0)"
   ]
  },
  {
   "cell_type": "markdown",
   "metadata": {},
   "source": [
    "Se revisa el número de valores únicos de cada columna"
   ]
  },
  {
   "cell_type": "code",
   "execution_count": 323,
   "metadata": {},
   "outputs": [
    {
     "data": {
      "text/plain": [
       "waterfront           2\n",
       "view                 5\n",
       "condition            5\n",
       "floors               6\n",
       "grade               12\n",
       "bedrooms            13\n",
       "bathrooms           30\n",
       "zipcode             70\n",
       "yr_renovated        70\n",
       "yr_built           116\n",
       "sqft_basement      306\n",
       "date               372\n",
       "long               752\n",
       "sqft_living15      777\n",
       "sqft_above         946\n",
       "sqft_living       1038\n",
       "price             4028\n",
       "lat               5034\n",
       "sqft_lot15        8689\n",
       "sqft_lot          9782\n",
       "id               21436\n",
       "dtype: int64"
      ]
     },
     "execution_count": 323,
     "metadata": {},
     "output_type": "execute_result"
    }
   ],
   "source": [
    "feats_counts = df.nunique(dropna = False)\n",
    "feats_counts.sort_values()"
   ]
  },
  {
   "cell_type": "markdown",
   "metadata": {},
   "source": [
    "Se separa la fecha en año, mes y día para poder usarlos en los módelos"
   ]
  },
  {
   "cell_type": "code",
   "execution_count": 324,
   "metadata": {},
   "outputs": [],
   "source": [
    "df['date']= pd.to_datetime(df['date'] , infer_datetime_format=True)\n",
    "df['year']=df['date'].dt.year\n",
    "df['month']=df['date'].dt.month\n",
    "df['day']=df['date'].dt.day\n",
    "df=df.drop('date', axis=1)"
   ]
  },
  {
   "cell_type": "markdown",
   "metadata": {},
   "source": [
    "Se separan los datos para entrenamiento y pruebas. Se escoge una división de 80/20"
   ]
  },
  {
   "cell_type": "code",
   "execution_count": 326,
   "metadata": {},
   "outputs": [],
   "source": [
    "x=df.drop(['price', 'id'], axis=1)\n",
    "y=df['price']\n",
    "x_train, x_test, y_train, y_test = train_test_split(x, y, test_size=0.2)"
   ]
  },
  {
   "cell_type": "markdown",
   "metadata": {},
   "source": [
    "Se separan los datos para entrenamiento y validación, también con una división 80/20"
   ]
  },
  {
   "cell_type": "code",
   "execution_count": 327,
   "metadata": {},
   "outputs": [],
   "source": [
    "x_train, x_validation, y_train, y_validation = train_test_split(x_train, y_train, test_size=0.2)"
   ]
  },
  {
   "cell_type": "code",
   "execution_count": 46,
   "metadata": {},
   "outputs": [
    {
     "name": "stdout",
     "output_type": "stream",
     "text": [
      "(21613, 21)\n",
      "(13832, 21)\n",
      "(3458, 21)\n",
      "(4323, 21)\n"
     ]
    }
   ],
   "source": [
    "print(x.shape)\n",
    "print(x_train.shape)\n",
    "print(x_validation.shape)\n",
    "print(x_test.shape)"
   ]
  },
  {
   "cell_type": "markdown",
   "metadata": {},
   "source": [
    "Se prueban un modelo de tipo gradient boosting y uno lineal y se comparan para obtener el mejor resultado utilizando el error cuadrático medio"
   ]
  },
  {
   "cell_type": "markdown",
   "metadata": {},
   "source": [
    "<h4>Gradient boosting</h4>"
   ]
  },
  {
   "cell_type": "markdown",
   "metadata": {},
   "source": [
    "Se utiliza la librería LightGBM"
   ]
  },
  {
   "cell_type": "markdown",
   "metadata": {},
   "source": [
    "Se escogen los hiperparámetros para entrenar el modelo y se ajustan para disminuir el error con el dataset de validación"
   ]
  },
  {
   "cell_type": "code",
   "execution_count": 291,
   "metadata": {},
   "outputs": [],
   "source": [
    "lgb_params = {\n",
    "               'feature_fraction': 0.5,\n",
    "               'nthread':1, \n",
    "               'min_data_in_leaf': 10, \n",
    "               'bagging_fraction': 0.5, \n",
    "               'learning_rate': 0.001, \n",
    "               'objective': 'mse', \n",
    "               'bagging_seed': 2**7, \n",
    "               'num_leaves': 2,\n",
    "               'bagging_freq':1,\n",
    "               'verbose':0,\n",
    "                'seed': 100\n",
    "              }"
   ]
  },
  {
   "cell_type": "code",
   "execution_count": 292,
   "metadata": {},
   "outputs": [
    {
     "name": "stdout",
     "output_type": "stream",
     "text": [
      "[LightGBM] [Warning] Auto-choosing col-wise multi-threading, the overhead of testing was 0.002012 seconds.\n",
      "You can set `force_col_wise=true` to remove the overhead.\n"
     ]
    }
   ],
   "source": [
    "lgbModel = lgb.train(lgb_params, lgb.Dataset(x_train, label=y_train), 100)"
   ]
  },
  {
   "cell_type": "code",
   "execution_count": 293,
   "metadata": {},
   "outputs": [
    {
     "name": "stdout",
     "output_type": "stream",
     "text": [
      "Validation mean squared error for LightGBM is 125715052462.422546\n"
     ]
    }
   ],
   "source": [
    "validation_pred_lgb = lgbModel.predict(X_validation)\n",
    "m=mean_squared_error(y_validation, validation_pred_lgb)\n",
    "print('Validation mean squared error for LightGBM is %f' % m)"
   ]
  },
  {
   "cell_type": "markdown",
   "metadata": {},
   "source": [
    "<h4>Regresión lineal</h4>"
   ]
  },
  {
   "cell_type": "markdown",
   "metadata": {},
   "source": [
    "Se utiliza la librería Sklearn con un módelo lineal"
   ]
  },
  {
   "cell_type": "code",
   "execution_count": 334,
   "metadata": {},
   "outputs": [],
   "source": [
    "lr = LinearRegression()"
   ]
  },
  {
   "cell_type": "code",
   "execution_count": 335,
   "metadata": {},
   "outputs": [
    {
     "data": {
      "text/html": [
       "<style>#sk-container-id-3 {color: black;background-color: white;}#sk-container-id-3 pre{padding: 0;}#sk-container-id-3 div.sk-toggleable {background-color: white;}#sk-container-id-3 label.sk-toggleable__label {cursor: pointer;display: block;width: 100%;margin-bottom: 0;padding: 0.3em;box-sizing: border-box;text-align: center;}#sk-container-id-3 label.sk-toggleable__label-arrow:before {content: \"▸\";float: left;margin-right: 0.25em;color: #696969;}#sk-container-id-3 label.sk-toggleable__label-arrow:hover:before {color: black;}#sk-container-id-3 div.sk-estimator:hover label.sk-toggleable__label-arrow:before {color: black;}#sk-container-id-3 div.sk-toggleable__content {max-height: 0;max-width: 0;overflow: hidden;text-align: left;background-color: #f0f8ff;}#sk-container-id-3 div.sk-toggleable__content pre {margin: 0.2em;color: black;border-radius: 0.25em;background-color: #f0f8ff;}#sk-container-id-3 input.sk-toggleable__control:checked~div.sk-toggleable__content {max-height: 200px;max-width: 100%;overflow: auto;}#sk-container-id-3 input.sk-toggleable__control:checked~label.sk-toggleable__label-arrow:before {content: \"▾\";}#sk-container-id-3 div.sk-estimator input.sk-toggleable__control:checked~label.sk-toggleable__label {background-color: #d4ebff;}#sk-container-id-3 div.sk-label input.sk-toggleable__control:checked~label.sk-toggleable__label {background-color: #d4ebff;}#sk-container-id-3 input.sk-hidden--visually {border: 0;clip: rect(1px 1px 1px 1px);clip: rect(1px, 1px, 1px, 1px);height: 1px;margin: -1px;overflow: hidden;padding: 0;position: absolute;width: 1px;}#sk-container-id-3 div.sk-estimator {font-family: monospace;background-color: #f0f8ff;border: 1px dotted black;border-radius: 0.25em;box-sizing: border-box;margin-bottom: 0.5em;}#sk-container-id-3 div.sk-estimator:hover {background-color: #d4ebff;}#sk-container-id-3 div.sk-parallel-item::after {content: \"\";width: 100%;border-bottom: 1px solid gray;flex-grow: 1;}#sk-container-id-3 div.sk-label:hover label.sk-toggleable__label {background-color: #d4ebff;}#sk-container-id-3 div.sk-serial::before {content: \"\";position: absolute;border-left: 1px solid gray;box-sizing: border-box;top: 0;bottom: 0;left: 50%;z-index: 0;}#sk-container-id-3 div.sk-serial {display: flex;flex-direction: column;align-items: center;background-color: white;padding-right: 0.2em;padding-left: 0.2em;position: relative;}#sk-container-id-3 div.sk-item {position: relative;z-index: 1;}#sk-container-id-3 div.sk-parallel {display: flex;align-items: stretch;justify-content: center;background-color: white;position: relative;}#sk-container-id-3 div.sk-item::before, #sk-container-id-3 div.sk-parallel-item::before {content: \"\";position: absolute;border-left: 1px solid gray;box-sizing: border-box;top: 0;bottom: 0;left: 50%;z-index: -1;}#sk-container-id-3 div.sk-parallel-item {display: flex;flex-direction: column;z-index: 1;position: relative;background-color: white;}#sk-container-id-3 div.sk-parallel-item:first-child::after {align-self: flex-end;width: 50%;}#sk-container-id-3 div.sk-parallel-item:last-child::after {align-self: flex-start;width: 50%;}#sk-container-id-3 div.sk-parallel-item:only-child::after {width: 0;}#sk-container-id-3 div.sk-dashed-wrapped {border: 1px dashed gray;margin: 0 0.4em 0.5em 0.4em;box-sizing: border-box;padding-bottom: 0.4em;background-color: white;}#sk-container-id-3 div.sk-label label {font-family: monospace;font-weight: bold;display: inline-block;line-height: 1.2em;}#sk-container-id-3 div.sk-label-container {text-align: center;}#sk-container-id-3 div.sk-container {/* jupyter's `normalize.less` sets `[hidden] { display: none; }` but bootstrap.min.css set `[hidden] { display: none !important; }` so we also need the `!important` here to be able to override the default hidden behavior on the sphinx rendered scikit-learn.org. See: https://github.com/scikit-learn/scikit-learn/issues/21755 */display: inline-block !important;position: relative;}#sk-container-id-3 div.sk-text-repr-fallback {display: none;}</style><div id=\"sk-container-id-3\" class=\"sk-top-container\"><div class=\"sk-text-repr-fallback\"><pre>LinearRegression()</pre><b>In a Jupyter environment, please rerun this cell to show the HTML representation or trust the notebook. <br />On GitHub, the HTML representation is unable to render, please try loading this page with nbviewer.org.</b></div><div class=\"sk-container\" hidden><div class=\"sk-item\"><div class=\"sk-estimator sk-toggleable\"><input class=\"sk-toggleable__control sk-hidden--visually\" id=\"sk-estimator-id-3\" type=\"checkbox\" checked><label for=\"sk-estimator-id-3\" class=\"sk-toggleable__label sk-toggleable__label-arrow\">LinearRegression</label><div class=\"sk-toggleable__content\"><pre>LinearRegression()</pre></div></div></div></div></div>"
      ],
      "text/plain": [
       "LinearRegression()"
      ]
     },
     "execution_count": 335,
     "metadata": {},
     "output_type": "execute_result"
    }
   ],
   "source": [
    "lr.fit(x_train.values, y_train)"
   ]
  },
  {
   "cell_type": "code",
   "execution_count": 336,
   "metadata": {},
   "outputs": [
    {
     "name": "stdout",
     "output_type": "stream",
     "text": [
      "Validation mean squared_error for linear regression is 213832706623.686157\n"
     ]
    }
   ],
   "source": [
    "validation_pred_lr = lr.predict(X_validation.values)\n",
    "m=mean_squared_error(y_validation, validation_pred_lr)\n",
    "print('Validation mean squared_error for linear regression is %f' % m)"
   ]
  },
  {
   "cell_type": "markdown",
   "metadata": {},
   "source": [
    "<h4>Ensembling</h4>"
   ]
  },
  {
   "cell_type": "markdown",
   "metadata": {},
   "source": [
    "Se combinan los dos modelos de forma lineal \n",
    "$$\n",
    "mix= \\alpha\\cdot\\text{linreg_prediction}+(1-\\alpha)\\cdot\\text{lgb_prediction}\n",
    "$$\n",
    "y se prueba cual relación (alpha) entre los dos produce un menor error"
   ]
  },
  {
   "cell_type": "code",
   "execution_count": 299,
   "metadata": {},
   "outputs": [
    {
     "name": "stdout",
     "output_type": "stream",
     "text": [
      "Best alpha: -1.000000; Corresponding mean squared error score on train: 204792772413.933563\n"
     ]
    },
    {
     "data": {
      "image/png": "[encoded data removed]",
      "text/plain": [
       "<Figure size 432x288 with 1 Axes>"
      ]
     },
     "metadata": {
      "needs_background": "light"
     },
     "output_type": "display_data"
    }
   ],
   "source": [
    "alphas_to_try = np.linspace(0, 1, 1001)\n",
    "\n",
    "scores=[]\n",
    "best  = 999\n",
    "best_alpha = -1\n",
    "for alpha in alphas_to_try:\n",
    "    mix = alpha * validation_pred_lr + (1-alpha) * validation_pred_lgb\n",
    "    score = mean_squared_error(y_validation, mix)\n",
    "    scores.append(score)\n",
    "    if score < best:\n",
    "        best = score\n",
    "        best_alpha = alpha\n",
    "\n",
    "plt.plot(alphas_to_try,scores, '-', color='black');\n",
    "\n",
    "mix = best_alpha * validation_pred_lr + (1-best_alpha) * validation_pred_lgb\n",
    "score = mean_squared_error(y_validation, mix)\n",
    "\n",
    "print('Best alpha: %f; Corresponding mean squared error score on train: %f' % (best_alpha, score))"
   ]
  },
  {
   "cell_type": "markdown",
   "metadata": {},
   "source": [
    "Se observa que el error disminuye con alpha, por lo tanto el mejor alpha a usar es cero. Esto indica que el modelo lineal no mejora el resultado y se usa unicamente el modelo de gradient boosting"
   ]
  },
  {
   "cell_type": "markdown",
   "metadata": {},
   "source": [
    "<h4>Pruebas</h4>"
   ]
  },
  {
   "cell_type": "markdown",
   "metadata": {},
   "source": [
    "Finalmente se prueba el modelo con los datos de prueba"
   ]
  },
  {
   "cell_type": "code",
   "execution_count": 342,
   "metadata": {},
   "outputs": [
    {
     "name": "stdout",
     "output_type": "stream",
     "text": [
      "Test mean squared error is 151568936600.918854\n"
     ]
    }
   ],
   "source": [
    "pred = lgbModel.predict(x_test)\n",
    "m=mean_squared_error(y_test, pred)\n",
    "print('Test mean squared error is %f' % m)"
   ]
  },
  {
   "cell_type": "markdown",
   "metadata": {},
   "source": [
    "Se obtiene un error cuadratico medio de 151568936600.918854 que es cercano al obtenido en validación"
   ]
  },
  {
   "cell_type": "markdown",
   "metadata": {},
   "source": [
    "<h4> Tercera Parte: Capacidades en SQL </h4>\n",
    "\n",
    "Resuelve las siguientes preguntas a través de una consulta SQL, La base de datos que usaremos como referencia, se encuentra en:\n",
    "https://www.w3schools.com/sql/trysql.asp?filename=trysql_select_all\n",
    "Allí también podrás encontrar un sandbox para realizar las consultas de una manera sencilla.\n",
    "\n",
    "\n",
    "- Cuales son las categorias de productos que mas han vendido y cuanto han vendido en precio y cantidad.\n",
    "- Cuantas unidades y dinero de cada producto ha vendido cada empleado \n",
    "- Cual es el producto más vendido por cada empleado. \n",
    "\n",
    "El orden,buenas prácticas y presentación de las consultas también cuenta. Asegurate de colocarlas en el notebook para que las podamos revisar."
   ]
  },
  {
   "cell_type": "code",
   "execution_count": 186,
   "metadata": {},
   "outputs": [
    {
     "data": {
      "text/plain": [
       "array([[<AxesSubplot:xlabel='id', ylabel='id'>,\n",
       "        <AxesSubplot:xlabel='price', ylabel='id'>,\n",
       "        <AxesSubplot:xlabel='bedrooms', ylabel='id'>,\n",
       "        <AxesSubplot:xlabel='bathrooms', ylabel='id'>,\n",
       "        <AxesSubplot:xlabel='sqft_living', ylabel='id'>,\n",
       "        <AxesSubplot:xlabel='sqft_lot', ylabel='id'>,\n",
       "        <AxesSubplot:xlabel='floors', ylabel='id'>,\n",
       "        <AxesSubplot:xlabel='waterfront', ylabel='id'>,\n",
       "        <AxesSubplot:xlabel='view', ylabel='id'>,\n",
       "        <AxesSubplot:xlabel='condition', ylabel='id'>,\n",
       "        <AxesSubplot:xlabel='grade', ylabel='id'>,\n",
       "        <AxesSubplot:xlabel='sqft_above', ylabel='id'>,\n",
       "        <AxesSubplot:xlabel='sqft_basement', ylabel='id'>,\n",
       "        <AxesSubplot:xlabel='yr_built', ylabel='id'>,\n",
       "        <AxesSubplot:xlabel='yr_renovated', ylabel='id'>,\n",
       "        <AxesSubplot:xlabel='zipcode', ylabel='id'>,\n",
       "        <AxesSubplot:xlabel='lat', ylabel='id'>,\n",
       "        <AxesSubplot:xlabel='long', ylabel='id'>,\n",
       "        <AxesSubplot:xlabel='sqft_living15', ylabel='id'>,\n",
       "        <AxesSubplot:xlabel='sqft_lot15', ylabel='id'>],\n",
       "       [<AxesSubplot:xlabel='id', ylabel='price'>,\n",
       "        <AxesSubplot:xlabel='price', ylabel='price'>,\n",
       "        <AxesSubplot:xlabel='bedrooms', ylabel='price'>,\n",
       "        <AxesSubplot:xlabel='bathrooms', ylabel='price'>,\n",
       "        <AxesSubplot:xlabel='sqft_living', ylabel='price'>,\n",
       "        <AxesSubplot:xlabel='sqft_lot', ylabel='price'>,\n",
       "        <AxesSubplot:xlabel='floors', ylabel='price'>,\n",
       "        <AxesSubplot:xlabel='waterfront', ylabel='price'>,\n",
       "        <AxesSubplot:xlabel='view', ylabel='price'>,\n",
       "        <AxesSubplot:xlabel='condition', ylabel='price'>,\n",
       "        <AxesSubplot:xlabel='grade', ylabel='price'>,\n",
       "        <AxesSubplot:xlabel='sqft_above', ylabel='price'>,\n",
       "        <AxesSubplot:xlabel='sqft_basement', ylabel='price'>,\n",
       "        <AxesSubplot:xlabel='yr_built', ylabel='price'>,\n",
       "        <AxesSubplot:xlabel='yr_renovated', ylabel='price'>,\n",
       "        <AxesSubplot:xlabel='zipcode', ylabel='price'>,\n",
       "        <AxesSubplot:xlabel='lat', ylabel='price'>,\n",
       "        <AxesSubplot:xlabel='long', ylabel='price'>,\n",
       "        <AxesSubplot:xlabel='sqft_living15', ylabel='price'>,\n",
       "        <AxesSubplot:xlabel='sqft_lot15', ylabel='price'>],\n",
       "       [<AxesSubplot:xlabel='id', ylabel='bedrooms'>,\n",
       "        <AxesSubplot:xlabel='price', ylabel='bedrooms'>,\n",
       "        <AxesSubplot:xlabel='bedrooms', ylabel='bedrooms'>,\n",
       "        <AxesSubplot:xlabel='bathrooms', ylabel='bedrooms'>,\n",
       "        <AxesSubplot:xlabel='sqft_living', ylabel='bedrooms'>,\n",
       "        <AxesSubplot:xlabel='sqft_lot', ylabel='bedrooms'>,\n",
       "        <AxesSubplot:xlabel='floors', ylabel='bedrooms'>,\n",
       "        <AxesSubplot:xlabel='waterfront', ylabel='bedrooms'>,\n",
       "        <AxesSubplot:xlabel='view', ylabel='bedrooms'>,\n",
       "        <AxesSubplot:xlabel='condition', ylabel='bedrooms'>,\n",
       "        <AxesSubplot:xlabel='grade', ylabel='bedrooms'>,\n",
       "        <AxesSubplot:xlabel='sqft_above', ylabel='bedrooms'>,\n",
       "        <AxesSubplot:xlabel='sqft_basement', ylabel='bedrooms'>,\n",
       "        <AxesSubplot:xlabel='yr_built', ylabel='bedrooms'>,\n",
       "        <AxesSubplot:xlabel='yr_renovated', ylabel='bedrooms'>,\n",
       "        <AxesSubplot:xlabel='zipcode', ylabel='bedrooms'>,\n",
       "        <AxesSubplot:xlabel='lat', ylabel='bedrooms'>,\n",
       "        <AxesSubplot:xlabel='long', ylabel='bedrooms'>,\n",
       "        <AxesSubplot:xlabel='sqft_living15', ylabel='bedrooms'>,\n",
       "        <AxesSubplot:xlabel='sqft_lot15', ylabel='bedrooms'>],\n",
       "       [<AxesSubplot:xlabel='id', ylabel='bathrooms'>,\n",
       "        <AxesSubplot:xlabel='price', ylabel='bathrooms'>,\n",
       "        <AxesSubplot:xlabel='bedrooms', ylabel='bathrooms'>,\n",
       "        <AxesSubplot:xlabel='bathrooms', ylabel='bathrooms'>,\n",
       "        <AxesSubplot:xlabel='sqft_living', ylabel='bathrooms'>,\n",
       "        <AxesSubplot:xlabel='sqft_lot', ylabel='bathrooms'>,\n",
       "        <AxesSubplot:xlabel='floors', ylabel='bathrooms'>,\n",
       "        <AxesSubplot:xlabel='waterfront', ylabel='bathrooms'>,\n",
       "        <AxesSubplot:xlabel='view', ylabel='bathrooms'>,\n",
       "        <AxesSubplot:xlabel='condition', ylabel='bathrooms'>,\n",
       "        <AxesSubplot:xlabel='grade', ylabel='bathrooms'>,\n",
       "        <AxesSubplot:xlabel='sqft_above', ylabel='bathrooms'>,\n",
       "        <AxesSubplot:xlabel='sqft_basement', ylabel='bathrooms'>,\n",
       "        <AxesSubplot:xlabel='yr_built', ylabel='bathrooms'>,\n",
       "        <AxesSubplot:xlabel='yr_renovated', ylabel='bathrooms'>,\n",
       "        <AxesSubplot:xlabel='zipcode', ylabel='bathrooms'>,\n",
       "        <AxesSubplot:xlabel='lat', ylabel='bathrooms'>,\n",
       "        <AxesSubplot:xlabel='long', ylabel='bathrooms'>,\n",
       "        <AxesSubplot:xlabel='sqft_living15', ylabel='bathrooms'>,\n",
       "        <AxesSubplot:xlabel='sqft_lot15', ylabel='bathrooms'>],\n",
       "       [<AxesSubplot:xlabel='id', ylabel='sqft_living'>,\n",
       "        <AxesSubplot:xlabel='price', ylabel='sqft_living'>,\n",
       "        <AxesSubplot:xlabel='bedrooms', ylabel='sqft_living'>,\n",
       "        <AxesSubplot:xlabel='bathrooms', ylabel='sqft_living'>,\n",
       "        <AxesSubplot:xlabel='sqft_living', ylabel='sqft_living'>,\n",
       "        <AxesSubplot:xlabel='sqft_lot', ylabel='sqft_living'>,\n",
       "        <AxesSubplot:xlabel='floors', ylabel='sqft_living'>,\n",
       "        <AxesSubplot:xlabel='waterfront', ylabel='sqft_living'>,\n",
       "        <AxesSubplot:xlabel='view', ylabel='sqft_living'>,\n",
       "        <AxesSubplot:xlabel='condition', ylabel='sqft_living'>,\n",
       "        <AxesSubplot:xlabel='grade', ylabel='sqft_living'>,\n",
       "        <AxesSubplot:xlabel='sqft_above', ylabel='sqft_living'>,\n",
       "        <AxesSubplot:xlabel='sqft_basement', ylabel='sqft_living'>,\n",
       "        <AxesSubplot:xlabel='yr_built', ylabel='sqft_living'>,\n",
       "        <AxesSubplot:xlabel='yr_renovated', ylabel='sqft_living'>,\n",
       "        <AxesSubplot:xlabel='zipcode', ylabel='sqft_living'>,\n",
       "        <AxesSubplot:xlabel='lat', ylabel='sqft_living'>,\n",
       "        <AxesSubplot:xlabel='long', ylabel='sqft_living'>,\n",
       "        <AxesSubplot:xlabel='sqft_living15', ylabel='sqft_living'>,\n",
       "        <AxesSubplot:xlabel='sqft_lot15', ylabel='sqft_living'>],\n",
       "       [<AxesSubplot:xlabel='id', ylabel='sqft_lot'>,\n",
       "        <AxesSubplot:xlabel='price', ylabel='sqft_lot'>,\n",
       "        <AxesSubplot:xlabel='bedrooms', ylabel='sqft_lot'>,\n",
       "        <AxesSubplot:xlabel='bathrooms', ylabel='sqft_lot'>,\n",
       "        <AxesSubplot:xlabel='sqft_living', ylabel='sqft_lot'>,\n",
       "        <AxesSubplot:xlabel='sqft_lot', ylabel='sqft_lot'>,\n",
       "        <AxesSubplot:xlabel='floors', ylabel='sqft_lot'>,\n",
       "        <AxesSubplot:xlabel='waterfront', ylabel='sqft_lot'>,\n",
       "        <AxesSubplot:xlabel='view', ylabel='sqft_lot'>,\n",
       "        <AxesSubplot:xlabel='condition', ylabel='sqft_lot'>,\n",
       "        <AxesSubplot:xlabel='grade', ylabel='sqft_lot'>,\n",
       "        <AxesSubplot:xlabel='sqft_above', ylabel='sqft_lot'>,\n",
       "        <AxesSubplot:xlabel='sqft_basement', ylabel='sqft_lot'>,\n",
       "        <AxesSubplot:xlabel='yr_built', ylabel='sqft_lot'>,\n",
       "        <AxesSubplot:xlabel='yr_renovated', ylabel='sqft_lot'>,\n",
       "        <AxesSubplot:xlabel='zipcode', ylabel='sqft_lot'>,\n",
       "        <AxesSubplot:xlabel='lat', ylabel='sqft_lot'>,\n",
       "        <AxesSubplot:xlabel='long', ylabel='sqft_lot'>,\n",
       "        <AxesSubplot:xlabel='sqft_living15', ylabel='sqft_lot'>,\n",
       "        <AxesSubplot:xlabel='sqft_lot15', ylabel='sqft_lot'>],\n",
       "       [<AxesSubplot:xlabel='id', ylabel='floors'>,\n",
       "        <AxesSubplot:xlabel='price', ylabel='floors'>,\n",
       "        <AxesSubplot:xlabel='bedrooms', ylabel='floors'>,\n",
       "        <AxesSubplot:xlabel='bathrooms', ylabel='floors'>,\n",
       "        <AxesSubplot:xlabel='sqft_living', ylabel='floors'>,\n",
       "        <AxesSubplot:xlabel='sqft_lot', ylabel='floors'>,\n",
       "        <AxesSubplot:xlabel='floors', ylabel='floors'>,\n",
       "        <AxesSubplot:xlabel='waterfront', ylabel='floors'>,\n",
       "        <AxesSubplot:xlabel='view', ylabel='floors'>,\n",
       "        <AxesSubplot:xlabel='condition', ylabel='floors'>,\n",
       "        <AxesSubplot:xlabel='grade', ylabel='floors'>,\n",
       "        <AxesSubplot:xlabel='sqft_above', ylabel='floors'>,\n",
       "        <AxesSubplot:xlabel='sqft_basement', ylabel='floors'>,\n",
       "        <AxesSubplot:xlabel='yr_built', ylabel='floors'>,\n",
       "        <AxesSubplot:xlabel='yr_renovated', ylabel='floors'>,\n",
       "        <AxesSubplot:xlabel='zipcode', ylabel='floors'>,\n",
       "        <AxesSubplot:xlabel='lat', ylabel='floors'>,\n",
       "        <AxesSubplot:xlabel='long', ylabel='floors'>,\n",
       "        <AxesSubplot:xlabel='sqft_living15', ylabel='floors'>,\n",
       "        <AxesSubplot:xlabel='sqft_lot15', ylabel='floors'>],\n",
       "       [<AxesSubplot:xlabel='id', ylabel='waterfront'>,\n",
       "        <AxesSubplot:xlabel='price', ylabel='waterfront'>,\n",
       "        <AxesSubplot:xlabel='bedrooms', ylabel='waterfront'>,\n",
       "        <AxesSubplot:xlabel='bathrooms', ylabel='waterfront'>,\n",
       "        <AxesSubplot:xlabel='sqft_living', ylabel='waterfront'>,\n",
       "        <AxesSubplot:xlabel='sqft_lot', ylabel='waterfront'>,\n",
       "        <AxesSubplot:xlabel='floors', ylabel='waterfront'>,\n",
       "        <AxesSubplot:xlabel='waterfront', ylabel='waterfront'>,\n",
       "        <AxesSubplot:xlabel='view', ylabel='waterfront'>,\n",
       "        <AxesSubplot:xlabel='condition', ylabel='waterfront'>,\n",
       "        <AxesSubplot:xlabel='grade', ylabel='waterfront'>,\n",
       "        <AxesSubplot:xlabel='sqft_above', ylabel='waterfront'>,\n",
       "        <AxesSubplot:xlabel='sqft_basement', ylabel='waterfront'>,\n",
       "        <AxesSubplot:xlabel='yr_built', ylabel='waterfront'>,\n",
       "        <AxesSubplot:xlabel='yr_renovated', ylabel='waterfront'>,\n",
       "        <AxesSubplot:xlabel='zipcode', ylabel='waterfront'>,\n",
       "        <AxesSubplot:xlabel='lat', ylabel='waterfront'>,\n",
       "        <AxesSubplot:xlabel='long', ylabel='waterfront'>,\n",
       "        <AxesSubplot:xlabel='sqft_living15', ylabel='waterfront'>,\n",
       "        <AxesSubplot:xlabel='sqft_lot15', ylabel='waterfront'>],\n",
       "       [<AxesSubplot:xlabel='id', ylabel='view'>,\n",
       "        <AxesSubplot:xlabel='price', ylabel='view'>,\n",
       "        <AxesSubplot:xlabel='bedrooms', ylabel='view'>,\n",
       "        <AxesSubplot:xlabel='bathrooms', ylabel='view'>,\n",
       "        <AxesSubplot:xlabel='sqft_living', ylabel='view'>,\n",
       "        <AxesSubplot:xlabel='sqft_lot', ylabel='view'>,\n",
       "        <AxesSubplot:xlabel='floors', ylabel='view'>,\n",
       "        <AxesSubplot:xlabel='waterfront', ylabel='view'>,\n",
       "        <AxesSubplot:xlabel='view', ylabel='view'>,\n",
       "        <AxesSubplot:xlabel='condition', ylabel='view'>,\n",
       "        <AxesSubplot:xlabel='grade', ylabel='view'>,\n",
       "        <AxesSubplot:xlabel='sqft_above', ylabel='view'>,\n",
       "        <AxesSubplot:xlabel='sqft_basement', ylabel='view'>,\n",
       "        <AxesSubplot:xlabel='yr_built', ylabel='view'>,\n",
       "        <AxesSubplot:xlabel='yr_renovated', ylabel='view'>,\n",
       "        <AxesSubplot:xlabel='zipcode', ylabel='view'>,\n",
       "        <AxesSubplot:xlabel='lat', ylabel='view'>,\n",
       "        <AxesSubplot:xlabel='long', ylabel='view'>,\n",
       "        <AxesSubplot:xlabel='sqft_living15', ylabel='view'>,\n",
       "        <AxesSubplot:xlabel='sqft_lot15', ylabel='view'>],\n",
       "       [<AxesSubplot:xlabel='id', ylabel='condition'>,\n",
       "        <AxesSubplot:xlabel='price', ylabel='condition'>,\n",
       "        <AxesSubplot:xlabel='bedrooms', ylabel='condition'>,\n",
       "        <AxesSubplot:xlabel='bathrooms', ylabel='condition'>,\n",
       "        <AxesSubplot:xlabel='sqft_living', ylabel='condition'>,\n",
       "        <AxesSubplot:xlabel='sqft_lot', ylabel='condition'>,\n",
       "        <AxesSubplot:xlabel='floors', ylabel='condition'>,\n",
       "        <AxesSubplot:xlabel='waterfront', ylabel='condition'>,\n",
       "        <AxesSubplot:xlabel='view', ylabel='condition'>,\n",
       "        <AxesSubplot:xlabel='condition', ylabel='condition'>,\n",
       "        <AxesSubplot:xlabel='grade', ylabel='condition'>,\n",
       "        <AxesSubplot:xlabel='sqft_above', ylabel='condition'>,\n",
       "        <AxesSubplot:xlabel='sqft_basement', ylabel='condition'>,\n",
       "        <AxesSubplot:xlabel='yr_built', ylabel='condition'>,\n",
       "        <AxesSubplot:xlabel='yr_renovated', ylabel='condition'>,\n",
       "        <AxesSubplot:xlabel='zipcode', ylabel='condition'>,\n",
       "        <AxesSubplot:xlabel='lat', ylabel='condition'>,\n",
       "        <AxesSubplot:xlabel='long', ylabel='condition'>,\n",
       "        <AxesSubplot:xlabel='sqft_living15', ylabel='condition'>,\n",
       "        <AxesSubplot:xlabel='sqft_lot15', ylabel='condition'>],\n",
       "       [<AxesSubplot:xlabel='id', ylabel='grade'>,\n",
       "        <AxesSubplot:xlabel='price', ylabel='grade'>,\n",
       "        <AxesSubplot:xlabel='bedrooms', ylabel='grade'>,\n",
       "        <AxesSubplot:xlabel='bathrooms', ylabel='grade'>,\n",
       "        <AxesSubplot:xlabel='sqft_living', ylabel='grade'>,\n",
       "        <AxesSubplot:xlabel='sqft_lot', ylabel='grade'>,\n",
       "        <AxesSubplot:xlabel='floors', ylabel='grade'>,\n",
       "        <AxesSubplot:xlabel='waterfront', ylabel='grade'>,\n",
       "        <AxesSubplot:xlabel='view', ylabel='grade'>,\n",
       "        <AxesSubplot:xlabel='condition', ylabel='grade'>,\n",
       "        <AxesSubplot:xlabel='grade', ylabel='grade'>,\n",
       "        <AxesSubplot:xlabel='sqft_above', ylabel='grade'>,\n",
       "        <AxesSubplot:xlabel='sqft_basement', ylabel='grade'>,\n",
       "        <AxesSubplot:xlabel='yr_built', ylabel='grade'>,\n",
       "        <AxesSubplot:xlabel='yr_renovated', ylabel='grade'>,\n",
       "        <AxesSubplot:xlabel='zipcode', ylabel='grade'>,\n",
       "        <AxesSubplot:xlabel='lat', ylabel='grade'>,\n",
       "        <AxesSubplot:xlabel='long', ylabel='grade'>,\n",
       "        <AxesSubplot:xlabel='sqft_living15', ylabel='grade'>,\n",
       "        <AxesSubplot:xlabel='sqft_lot15', ylabel='grade'>],\n",
       "       [<AxesSubplot:xlabel='id', ylabel='sqft_above'>,\n",
       "        <AxesSubplot:xlabel='price', ylabel='sqft_above'>,\n",
       "        <AxesSubplot:xlabel='bedrooms', ylabel='sqft_above'>,\n",
       "        <AxesSubplot:xlabel='bathrooms', ylabel='sqft_above'>,\n",
       "        <AxesSubplot:xlabel='sqft_living', ylabel='sqft_above'>,\n",
       "        <AxesSubplot:xlabel='sqft_lot', ylabel='sqft_above'>,\n",
       "        <AxesSubplot:xlabel='floors', ylabel='sqft_above'>,\n",
       "        <AxesSubplot:xlabel='waterfront', ylabel='sqft_above'>,\n",
       "        <AxesSubplot:xlabel='view', ylabel='sqft_above'>,\n",
       "        <AxesSubplot:xlabel='condition', ylabel='sqft_above'>,\n",
       "        <AxesSubplot:xlabel='grade', ylabel='sqft_above'>,\n",
       "        <AxesSubplot:xlabel='sqft_above', ylabel='sqft_above'>,\n",
       "        <AxesSubplot:xlabel='sqft_basement', ylabel='sqft_above'>,\n",
       "        <AxesSubplot:xlabel='yr_built', ylabel='sqft_above'>,\n",
       "        <AxesSubplot:xlabel='yr_renovated', ylabel='sqft_above'>,\n",
       "        <AxesSubplot:xlabel='zipcode', ylabel='sqft_above'>,\n",
       "        <AxesSubplot:xlabel='lat', ylabel='sqft_above'>,\n",
       "        <AxesSubplot:xlabel='long', ylabel='sqft_above'>,\n",
       "        <AxesSubplot:xlabel='sqft_living15', ylabel='sqft_above'>,\n",
       "        <AxesSubplot:xlabel='sqft_lot15', ylabel='sqft_above'>],\n",
       "       [<AxesSubplot:xlabel='id', ylabel='sqft_basement'>,\n",
       "        <AxesSubplot:xlabel='price', ylabel='sqft_basement'>,\n",
       "        <AxesSubplot:xlabel='bedrooms', ylabel='sqft_basement'>,\n",
       "        <AxesSubplot:xlabel='bathrooms', ylabel='sqft_basement'>,\n",
       "        <AxesSubplot:xlabel='sqft_living', ylabel='sqft_basement'>,\n",
       "        <AxesSubplot:xlabel='sqft_lot', ylabel='sqft_basement'>,\n",
       "        <AxesSubplot:xlabel='floors', ylabel='sqft_basement'>,\n",
       "        <AxesSubplot:xlabel='waterfront', ylabel='sqft_basement'>,\n",
       "        <AxesSubplot:xlabel='view', ylabel='sqft_basement'>,\n",
       "        <AxesSubplot:xlabel='condition', ylabel='sqft_basement'>,\n",
       "        <AxesSubplot:xlabel='grade', ylabel='sqft_basement'>,\n",
       "        <AxesSubplot:xlabel='sqft_above', ylabel='sqft_basement'>,\n",
       "        <AxesSubplot:xlabel='sqft_basement', ylabel='sqft_basement'>,\n",
       "        <AxesSubplot:xlabel='yr_built', ylabel='sqft_basement'>,\n",
       "        <AxesSubplot:xlabel='yr_renovated', ylabel='sqft_basement'>,\n",
       "        <AxesSubplot:xlabel='zipcode', ylabel='sqft_basement'>,\n",
       "        <AxesSubplot:xlabel='lat', ylabel='sqft_basement'>,\n",
       "        <AxesSubplot:xlabel='long', ylabel='sqft_basement'>,\n",
       "        <AxesSubplot:xlabel='sqft_living15', ylabel='sqft_basement'>,\n",
       "        <AxesSubplot:xlabel='sqft_lot15', ylabel='sqft_basement'>],\n",
       "       [<AxesSubplot:xlabel='id', ylabel='yr_built'>,\n",
       "        <AxesSubplot:xlabel='price', ylabel='yr_built'>,\n",
       "        <AxesSubplot:xlabel='bedrooms', ylabel='yr_built'>,\n",
       "        <AxesSubplot:xlabel='bathrooms', ylabel='yr_built'>,\n",
       "        <AxesSubplot:xlabel='sqft_living', ylabel='yr_built'>,\n",
       "        <AxesSubplot:xlabel='sqft_lot', ylabel='yr_built'>,\n",
       "        <AxesSubplot:xlabel='floors', ylabel='yr_built'>,\n",
       "        <AxesSubplot:xlabel='waterfront', ylabel='yr_built'>,\n",
       "        <AxesSubplot:xlabel='view', ylabel='yr_built'>,\n",
       "        <AxesSubplot:xlabel='condition', ylabel='yr_built'>,\n",
       "        <AxesSubplot:xlabel='grade', ylabel='yr_built'>,\n",
       "        <AxesSubplot:xlabel='sqft_above', ylabel='yr_built'>,\n",
       "        <AxesSubplot:xlabel='sqft_basement', ylabel='yr_built'>,\n",
       "        <AxesSubplot:xlabel='yr_built', ylabel='yr_built'>,\n",
       "        <AxesSubplot:xlabel='yr_renovated', ylabel='yr_built'>,\n",
       "        <AxesSubplot:xlabel='zipcode', ylabel='yr_built'>,\n",
       "        <AxesSubplot:xlabel='lat', ylabel='yr_built'>,\n",
       "        <AxesSubplot:xlabel='long', ylabel='yr_built'>,\n",
       "        <AxesSubplot:xlabel='sqft_living15', ylabel='yr_built'>,\n",
       "        <AxesSubplot:xlabel='sqft_lot15', ylabel='yr_built'>],\n",
       "       [<AxesSubplot:xlabel='id', ylabel='yr_renovated'>,\n",
       "        <AxesSubplot:xlabel='price', ylabel='yr_renovated'>,\n",
       "        <AxesSubplot:xlabel='bedrooms', ylabel='yr_renovated'>,\n",
       "        <AxesSubplot:xlabel='bathrooms', ylabel='yr_renovated'>,\n",
       "        <AxesSubplot:xlabel='sqft_living', ylabel='yr_renovated'>,\n",
       "        <AxesSubplot:xlabel='sqft_lot', ylabel='yr_renovated'>,\n",
       "        <AxesSubplot:xlabel='floors', ylabel='yr_renovated'>,\n",
       "        <AxesSubplot:xlabel='waterfront', ylabel='yr_renovated'>,\n",
       "        <AxesSubplot:xlabel='view', ylabel='yr_renovated'>,\n",
       "        <AxesSubplot:xlabel='condition', ylabel='yr_renovated'>,\n",
       "        <AxesSubplot:xlabel='grade', ylabel='yr_renovated'>,\n",
       "        <AxesSubplot:xlabel='sqft_above', ylabel='yr_renovated'>,\n",
       "        <AxesSubplot:xlabel='sqft_basement', ylabel='yr_renovated'>,\n",
       "        <AxesSubplot:xlabel='yr_built', ylabel='yr_renovated'>,\n",
       "        <AxesSubplot:xlabel='yr_renovated', ylabel='yr_renovated'>,\n",
       "        <AxesSubplot:xlabel='zipcode', ylabel='yr_renovated'>,\n",
       "        <AxesSubplot:xlabel='lat', ylabel='yr_renovated'>,\n",
       "        <AxesSubplot:xlabel='long', ylabel='yr_renovated'>,\n",
       "        <AxesSubplot:xlabel='sqft_living15', ylabel='yr_renovated'>,\n",
       "        <AxesSubplot:xlabel='sqft_lot15', ylabel='yr_renovated'>],\n",
       "       [<AxesSubplot:xlabel='id', ylabel='zipcode'>,\n",
       "        <AxesSubplot:xlabel='price', ylabel='zipcode'>,\n",
       "        <AxesSubplot:xlabel='bedrooms', ylabel='zipcode'>,\n",
       "        <AxesSubplot:xlabel='bathrooms', ylabel='zipcode'>,\n",
       "        <AxesSubplot:xlabel='sqft_living', ylabel='zipcode'>,\n",
       "        <AxesSubplot:xlabel='sqft_lot', ylabel='zipcode'>,\n",
       "        <AxesSubplot:xlabel='floors', ylabel='zipcode'>,\n",
       "        <AxesSubplot:xlabel='waterfront', ylabel='zipcode'>,\n",
       "        <AxesSubplot:xlabel='view', ylabel='zipcode'>,\n",
       "        <AxesSubplot:xlabel='condition', ylabel='zipcode'>,\n",
       "        <AxesSubplot:xlabel='grade', ylabel='zipcode'>,\n",
       "        <AxesSubplot:xlabel='sqft_above', ylabel='zipcode'>,\n",
       "        <AxesSubplot:xlabel='sqft_basement', ylabel='zipcode'>,\n",
       "        <AxesSubplot:xlabel='yr_built', ylabel='zipcode'>,\n",
       "        <AxesSubplot:xlabel='yr_renovated', ylabel='zipcode'>,\n",
       "        <AxesSubplot:xlabel='zipcode', ylabel='zipcode'>,\n",
       "        <AxesSubplot:xlabel='lat', ylabel='zipcode'>,\n",
       "        <AxesSubplot:xlabel='long', ylabel='zipcode'>,\n",
       "        <AxesSubplot:xlabel='sqft_living15', ylabel='zipcode'>,\n",
       "        <AxesSubplot:xlabel='sqft_lot15', ylabel='zipcode'>],\n",
       "       [<AxesSubplot:xlabel='id', ylabel='lat'>,\n",
       "        <AxesSubplot:xlabel='price', ylabel='lat'>,\n",
       "        <AxesSubplot:xlabel='bedrooms', ylabel='lat'>,\n",
       "        <AxesSubplot:xlabel='bathrooms', ylabel='lat'>,\n",
       "        <AxesSubplot:xlabel='sqft_living', ylabel='lat'>,\n",
       "        <AxesSubplot:xlabel='sqft_lot', ylabel='lat'>,\n",
       "        <AxesSubplot:xlabel='floors', ylabel='lat'>,\n",
       "        <AxesSubplot:xlabel='waterfront', ylabel='lat'>,\n",
       "        <AxesSubplot:xlabel='view', ylabel='lat'>,\n",
       "        <AxesSubplot:xlabel='condition', ylabel='lat'>,\n",
       "        <AxesSubplot:xlabel='grade', ylabel='lat'>,\n",
       "        <AxesSubplot:xlabel='sqft_above', ylabel='lat'>,\n",
       "        <AxesSubplot:xlabel='sqft_basement', ylabel='lat'>,\n",
       "        <AxesSubplot:xlabel='yr_built', ylabel='lat'>,\n",
       "        <AxesSubplot:xlabel='yr_renovated', ylabel='lat'>,\n",
       "        <AxesSubplot:xlabel='zipcode', ylabel='lat'>,\n",
       "        <AxesSubplot:xlabel='lat', ylabel='lat'>,\n",
       "        <AxesSubplot:xlabel='long', ylabel='lat'>,\n",
       "        <AxesSubplot:xlabel='sqft_living15', ylabel='lat'>,\n",
       "        <AxesSubplot:xlabel='sqft_lot15', ylabel='lat'>],\n",
       "       [<AxesSubplot:xlabel='id', ylabel='long'>,\n",
       "        <AxesSubplot:xlabel='price', ylabel='long'>,\n",
       "        <AxesSubplot:xlabel='bedrooms', ylabel='long'>,\n",
       "        <AxesSubplot:xlabel='bathrooms', ylabel='long'>,\n",
       "        <AxesSubplot:xlabel='sqft_living', ylabel='long'>,\n",
       "        <AxesSubplot:xlabel='sqft_lot', ylabel='long'>,\n",
       "        <AxesSubplot:xlabel='floors', ylabel='long'>,\n",
       "        <AxesSubplot:xlabel='waterfront', ylabel='long'>,\n",
       "        <AxesSubplot:xlabel='view', ylabel='long'>,\n",
       "        <AxesSubplot:xlabel='condition', ylabel='long'>,\n",
       "        <AxesSubplot:xlabel='grade', ylabel='long'>,\n",
       "        <AxesSubplot:xlabel='sqft_above', ylabel='long'>,\n",
       "        <AxesSubplot:xlabel='sqft_basement', ylabel='long'>,\n",
       "        <AxesSubplot:xlabel='yr_built', ylabel='long'>,\n",
       "        <AxesSubplot:xlabel='yr_renovated', ylabel='long'>,\n",
       "        <AxesSubplot:xlabel='zipcode', ylabel='long'>,\n",
       "        <AxesSubplot:xlabel='lat', ylabel='long'>,\n",
       "        <AxesSubplot:xlabel='long', ylabel='long'>,\n",
       "        <AxesSubplot:xlabel='sqft_living15', ylabel='long'>,\n",
       "        <AxesSubplot:xlabel='sqft_lot15', ylabel='long'>],\n",
       "       [<AxesSubplot:xlabel='id', ylabel='sqft_living15'>,\n",
       "        <AxesSubplot:xlabel='price', ylabel='sqft_living15'>,\n",
       "        <AxesSubplot:xlabel='bedrooms', ylabel='sqft_living15'>,\n",
       "        <AxesSubplot:xlabel='bathrooms', ylabel='sqft_living15'>,\n",
       "        <AxesSubplot:xlabel='sqft_living', ylabel='sqft_living15'>,\n",
       "        <AxesSubplot:xlabel='sqft_lot', ylabel='sqft_living15'>,\n",
       "        <AxesSubplot:xlabel='floors', ylabel='sqft_living15'>,\n",
       "        <AxesSubplot:xlabel='waterfront', ylabel='sqft_living15'>,\n",
       "        <AxesSubplot:xlabel='view', ylabel='sqft_living15'>,\n",
       "        <AxesSubplot:xlabel='condition', ylabel='sqft_living15'>,\n",
       "        <AxesSubplot:xlabel='grade', ylabel='sqft_living15'>,\n",
       "        <AxesSubplot:xlabel='sqft_above', ylabel='sqft_living15'>,\n",
       "        <AxesSubplot:xlabel='sqft_basement', ylabel='sqft_living15'>,\n",
       "        <AxesSubplot:xlabel='yr_built', ylabel='sqft_living15'>,\n",
       "        <AxesSubplot:xlabel='yr_renovated', ylabel='sqft_living15'>,\n",
       "        <AxesSubplot:xlabel='zipcode', ylabel='sqft_living15'>,\n",
       "        <AxesSubplot:xlabel='lat', ylabel='sqft_living15'>,\n",
       "        <AxesSubplot:xlabel='long', ylabel='sqft_living15'>,\n",
       "        <AxesSubplot:xlabel='sqft_living15', ylabel='sqft_living15'>,\n",
       "        <AxesSubplot:xlabel='sqft_lot15', ylabel='sqft_living15'>],\n",
       "       [<AxesSubplot:xlabel='id', ylabel='sqft_lot15'>,\n",
       "        <AxesSubplot:xlabel='price', ylabel='sqft_lot15'>,\n",
       "        <AxesSubplot:xlabel='bedrooms', ylabel='sqft_lot15'>,\n",
       "        <AxesSubplot:xlabel='bathrooms', ylabel='sqft_lot15'>,\n",
       "        <AxesSubplot:xlabel='sqft_living', ylabel='sqft_lot15'>,\n",
       "        <AxesSubplot:xlabel='sqft_lot', ylabel='sqft_lot15'>,\n",
       "        <AxesSubplot:xlabel='floors', ylabel='sqft_lot15'>,\n",
       "        <AxesSubplot:xlabel='waterfront', ylabel='sqft_lot15'>,\n",
       "        <AxesSubplot:xlabel='view', ylabel='sqft_lot15'>,\n",
       "        <AxesSubplot:xlabel='condition', ylabel='sqft_lot15'>,\n",
       "        <AxesSubplot:xlabel='grade', ylabel='sqft_lot15'>,\n",
       "        <AxesSubplot:xlabel='sqft_above', ylabel='sqft_lot15'>,\n",
       "        <AxesSubplot:xlabel='sqft_basement', ylabel='sqft_lot15'>,\n",
       "        <AxesSubplot:xlabel='yr_built', ylabel='sqft_lot15'>,\n",
       "        <AxesSubplot:xlabel='yr_renovated', ylabel='sqft_lot15'>,\n",
       "        <AxesSubplot:xlabel='zipcode', ylabel='sqft_lot15'>,\n",
       "        <AxesSubplot:xlabel='lat', ylabel='sqft_lot15'>,\n",
       "        <AxesSubplot:xlabel='long', ylabel='sqft_lot15'>,\n",
       "        <AxesSubplot:xlabel='sqft_living15', ylabel='sqft_lot15'>,\n",
       "        <AxesSubplot:xlabel='sqft_lot15', ylabel='sqft_lot15'>]],\n",
       "      dtype=object)"
      ]
     },
     "execution_count": 186,
     "metadata": {},
     "output_type": "execute_result"
    },
    {
     "data": {
      "image/png": "[encoded data removed]",
      "text/plain": [
       "<Figure size 432x288 with 400 Axes>"
      ]
     },
     "metadata": {
      "needs_background": "light"
     },
     "output_type": "display_data"
    }
   ],
   "source": [
    "pd.plotting.scatter_matrix(df)"
   ]
  },
  {
   "cell_type": "code",
   "execution_count": null,
   "metadata": {},
   "outputs": [],
   "source": []
  }
 ],
 "metadata": {
  "kernelspec": {
   "display_name": "Python 3",
   "language": "python",
   "name": "python3"
  },
  "language_info": {
   "codemirror_mode": {
    "name": "ipython",
    "version": 3
   },
   "file_extension": ".py",
   "mimetype": "text/x-python",
   "name": "python",
   "nbconvert_exporter": "python",
   "pygments_lexer": "ipython3",
   "version": "3.9.0"
  }
 },
 "nbformat": 4,
 "nbformat_minor": 5
}
